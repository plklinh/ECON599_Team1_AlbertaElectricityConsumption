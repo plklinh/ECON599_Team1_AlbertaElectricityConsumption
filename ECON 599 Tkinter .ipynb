{
 "cells": [
  {
   "cell_type": "code",
   "execution_count": 2,
   "id": "medical-appliance",
   "metadata": {},
   "outputs": [],
   "source": [
    "from tkinter import *"
   ]
  },
  {
   "cell_type": "code",
   "execution_count": 4,
   "id": "institutional-contractor",
   "metadata": {},
   "outputs": [],
   "source": [
    "#part 1 simple window with text\n",
    "\n",
    "#create a blank window \n",
    "root = Tk() \n",
    "#basic text uses labels in tkinter \n",
    "theLabel = Label(root, text=\"for our tutorial\")\n",
    "#how to place the text where you want it to be\n",
    "theLabel.pack()\n",
    "#pack it somewhere \n",
    "#take our window and place mainloop, when working with GUI applications you need it to continuosly run until you close it \n",
    "root.mainloop()"
   ]
  },
  {
   "cell_type": "code",
   "execution_count": 6,
   "id": "mediterranean-seattle",
   "metadata": {},
   "outputs": [],
   "source": [
    "#part 2 organzing stuff \n",
    "\n",
    "#aframe an invible rectangle \n",
    "root = Tk()\n",
    "topFrame = Frame(root)\n",
    "topFrame.pack()\n",
    "bottomFrame = Frame(root)\n",
    "bottomFrame.pack(side=BOTTOM)\n",
    "\n",
    "button1 = Button(topFrame, text=\"button 1\", fg=\"red\")\n",
    "button2 = Button(topFrame, text=\"button 2\", fg=\"blue\")\n",
    "button3 = Button(topFrame, text=\"button 3\", fg=\"green\")\n",
    "button4 = Button(bottomFrame, text=\"button 4\", fg=\"pink\")\n",
    "\n",
    "button1.pack(side=LEFT)\n",
    "button2.pack(side=LEFT)\n",
    "button3.pack(side=LEFT)\n",
    "button4.pack(side=BOTTOM)\n",
    "\n",
    "#We know have two invisible rectangles  \n",
    "root.mainloop()\n",
    "\n"
   ]
  },
  {
   "cell_type": "code",
   "execution_count": 8,
   "id": "spread-plant",
   "metadata": {},
   "outputs": [],
   "source": [
    "#part 3 putting widgets in our layout \n",
    "\n",
    "root = Tk()\n",
    "\n",
    "one = Label(root,text=\"One\",bg=\"red\",fg=\"green\")\n",
    "one.pack()\n",
    "two = Label(root, text=\"two\",bg=\"pink\",fg=\"blue\")\n",
    "#add knew parameter, means  we pretty much wanna fill it as large as wide as the parent is \n",
    "two.pack(fill=X)\n",
    "three = Label(root, text=\"three\",bg=\"black\",fg=\"white\")\n",
    "three.pack(side=LEFT, fill=Y)\n",
    "\n",
    "root.mainloop()"
   ]
  },
  {
   "cell_type": "code",
   "execution_count": 12,
   "id": "pending-leadership",
   "metadata": {},
   "outputs": [],
   "source": [
    "#part 4 Grid Layout/ part 5 more on grid layout \n",
    "\n",
    "root = Tk()\n",
    "\n",
    "\n",
    "label_1 = Label(root, text=\"Name\")\n",
    "label_2 = Label(root, text=\"Password\")\n",
    "#if you want to give the user a blank area to write \n",
    "entry_1 = Entry(root)\n",
    "entry_2 = Entry(root)\n",
    "#using a different type of layout before we were using pack \n",
    "label_1.grid(row=0, sticky=E)\n",
    "label_2.grid(row=1, sticky=E)\n",
    "\n",
    "#position are entries \n",
    "entry_1.grid(row=0, column=1)\n",
    "entry_2.grid(row=1, column=1)\n",
    "\n",
    "#how to add a keep me logged in check box\n",
    "c = Checkbutton(root, text=\"keep me logged\")\n",
    "c.grid(columnspan=2)\n",
    "\n",
    "\n",
    "root.mainloop()\n",
    "\n"
   ]
  },
  {
   "cell_type": "code",
   "execution_count": 13,
   "id": "exceptional-adrian",
   "metadata": {},
   "outputs": [
    {
     "name": "stdout",
     "output_type": "stream",
     "text": [
      " hello my name is karan\n"
     ]
    }
   ],
   "source": [
    "#part 6 Binding Functions to Layouts( click a button)\n",
    "\n",
    "root = Tk()\n",
    "\n",
    "def printName():\n",
    "    print(\" hello my name is karan\")\n",
    "    \n",
    "button_1 = Button(root, text=\"Print my name\", command=printName)\n",
    "button_1.pack()\n",
    "\n",
    "\n",
    "\n",
    "\n",
    "root.mainloop()"
   ]
  },
  {
   "cell_type": "code",
   "execution_count": 16,
   "id": "small-equipment",
   "metadata": {},
   "outputs": [
    {
     "name": "stdout",
     "output_type": "stream",
     "text": [
      " hello my name is karan\n"
     ]
    }
   ],
   "source": [
    "#part 6 Binding Functions to Layouts another method \n",
    "\n",
    "root = Tk()\n",
    "\n",
    "def printName(event):\n",
    "    print(\" hello my name is karan\")\n",
    "    \n",
    "button_1 = Button(root, text=\"Print my name\")\n",
    "# Use the function bind takes 2 paramtere the event your waiting to occer and the function with it \n",
    "button_1.bind(\"<Button-1>\", printName)\n",
    "button_1.pack()\n",
    "\n",
    "\n",
    "\n",
    "\n",
    "root.mainloop()"
   ]
  },
  {
   "cell_type": "code",
   "execution_count": 20,
   "id": "proof-friendship",
   "metadata": {},
   "outputs": [
    {
     "name": "stdout",
     "output_type": "stream",
     "text": [
      "Left\n",
      "Right\n",
      "Left\n",
      "Right\n"
     ]
    }
   ],
   "source": [
    "#part 7 Mouse click events \n",
    "\n",
    "root = Tk()\n",
    "\n",
    "def leftClick(event):\n",
    "    print(\"Left\")\n",
    "    \n",
    "def middleClick(event):\n",
    "    print(\"Middle\")\n",
    "    \n",
    "def rightClick(event):\n",
    "    print(\"Right\")\n",
    "\n",
    "frame = Frame(root, width=300, height=250)\n",
    "frame.bind(\"<Button-1>\", leftClick)\n",
    "frame.bind(\"<Button-2>\", middleClick)\n",
    "frame.bind(\"<Button-3>\", rightClick)\n",
    "frame.pack()\n",
    "\n",
    "\n",
    "\n",
    "\n",
    "\n",
    "root.mainloop()\n",
    "\n"
   ]
  },
  {
   "cell_type": "code",
   "execution_count": 29,
   "id": "sealed-advance",
   "metadata": {},
   "outputs": [
    {
     "ename": "AttributeError",
     "evalue": "'KaransButtons' object has no attribute 'printMessage'",
     "output_type": "error",
     "traceback": [
      "\u001b[1;31m---------------------------------------------------------------------------\u001b[0m",
      "\u001b[1;31mAttributeError\u001b[0m                            Traceback (most recent call last)",
      "\u001b[1;32m<ipython-input-29-54aeb91b8427>\u001b[0m in \u001b[0;36m<module>\u001b[1;34m\u001b[0m\n\u001b[0;32m     19\u001b[0m \u001b[1;33m\u001b[0m\u001b[0m\n\u001b[0;32m     20\u001b[0m \u001b[0mroot\u001b[0m \u001b[1;33m=\u001b[0m \u001b[0mTk\u001b[0m\u001b[1;33m(\u001b[0m\u001b[1;33m)\u001b[0m\u001b[1;33m\u001b[0m\u001b[0m\n\u001b[1;32m---> 21\u001b[1;33m \u001b[0mb\u001b[0m \u001b[1;33m=\u001b[0m \u001b[0mKaransButtons\u001b[0m\u001b[1;33m(\u001b[0m\u001b[0mroot\u001b[0m\u001b[1;33m)\u001b[0m\u001b[1;33m\u001b[0m\u001b[0m\n\u001b[0m\u001b[0;32m     22\u001b[0m \u001b[0mroot\u001b[0m\u001b[1;33m.\u001b[0m\u001b[0mmainloop\u001b[0m\u001b[1;33m(\u001b[0m\u001b[1;33m)\u001b[0m\u001b[1;33m\u001b[0m\u001b[0m\n",
      "\u001b[1;32m<ipython-input-29-54aeb91b8427>\u001b[0m in \u001b[0;36m__init__\u001b[1;34m(self, master)\u001b[0m\n\u001b[0;32m      9\u001b[0m        \u001b[0mframe\u001b[0m\u001b[1;33m.\u001b[0m\u001b[0mpack\u001b[0m\u001b[1;33m(\u001b[0m\u001b[1;33m)\u001b[0m\u001b[1;33m\u001b[0m\u001b[0m\n\u001b[0;32m     10\u001b[0m \u001b[1;33m\u001b[0m\u001b[0m\n\u001b[1;32m---> 11\u001b[1;33m        \u001b[0mself\u001b[0m\u001b[1;33m.\u001b[0m\u001b[0mprintButton\u001b[0m \u001b[1;33m=\u001b[0m \u001b[0mButton\u001b[0m\u001b[1;33m(\u001b[0m\u001b[0mframe\u001b[0m\u001b[1;33m,\u001b[0m \u001b[0mtext\u001b[0m\u001b[1;33m=\u001b[0m\u001b[1;34m\"Print Message\"\u001b[0m\u001b[1;33m,\u001b[0m \u001b[0mcommand\u001b[0m\u001b[1;33m=\u001b[0m\u001b[0mself\u001b[0m\u001b[1;33m.\u001b[0m\u001b[0mprintMessage\u001b[0m\u001b[1;33m)\u001b[0m\u001b[1;33m\u001b[0m\u001b[0m\n\u001b[0m\u001b[0;32m     12\u001b[0m        \u001b[0mself\u001b[0m\u001b[1;33m.\u001b[0m\u001b[0mprintButton\u001b[0m\u001b[1;33m.\u001b[0m\u001b[0mpack\u001b[0m\u001b[1;33m(\u001b[0m\u001b[0mside\u001b[0m\u001b[1;33m=\u001b[0m\u001b[0mLEFT\u001b[0m\u001b[1;33m)\u001b[0m\u001b[1;33m\u001b[0m\u001b[0m\n\u001b[0;32m     13\u001b[0m \u001b[1;33m\u001b[0m\u001b[0m\n",
      "\u001b[1;31mAttributeError\u001b[0m: 'KaransButtons' object has no attribute 'printMessage'"
     ]
    }
   ],
   "source": [
    "#part 8 Using classes (did not work look over)\n",
    "# using init a specialized button \n",
    "\n",
    "\n",
    "class KaransButtons:\n",
    "    \n",
    "    def __init__(self, master):\n",
    "       frame = Frame(master)\n",
    "       frame.pack()\n",
    "        \n",
    "       self.printButton = Button(frame, text=\"Print Message\", command=self.printMessage)\n",
    "       self.printButton.pack(side=LEFT)\n",
    "       \n",
    "       self.quitButton = Button(frame, text=\"Quit\", command=frame.quit)\n",
    "       self.quitButton.pack(side=LEFT)\n",
    "    \n",
    "    def printMesssage(self):\n",
    "        print(\"its alive\")\n",
    "        \n",
    "root = Tk()\n",
    "b = KaransButtons(root)\n",
    "root.mainloop()"
   ]
  },
  {
   "cell_type": "code",
   "execution_count": null,
   "id": "corresponding-things",
   "metadata": {},
   "outputs": [],
   "source": []
  }
 ],
 "metadata": {
  "kernelspec": {
   "display_name": "Python 3",
   "language": "python",
   "name": "python3"
  },
  "language_info": {
   "codemirror_mode": {
    "name": "ipython",
    "version": 3
   },
   "file_extension": ".py",
   "mimetype": "text/x-python",
   "name": "python",
   "nbconvert_exporter": "python",
   "pygments_lexer": "ipython3",
   "version": "3.7.0"
  }
 },
 "nbformat": 4,
 "nbformat_minor": 5
}
