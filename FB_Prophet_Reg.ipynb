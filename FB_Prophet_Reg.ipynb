{
  "nbformat": 4,
  "nbformat_minor": 0,
  "metadata": {
    "language_info": {
      "codemirror_mode": {
        "name": "ipython",
        "version": 3
      },
      "file_extension": ".py",
      "mimetype": "text/x-python",
      "name": "python",
      "nbconvert_exporter": "python",
      "pygments_lexer": "ipython3",
      "version": "3.8.5-final"
    },
    "orig_nbformat": 2,
    "kernelspec": {
      "name": "python3",
      "display_name": "Python 3",
      "language": "python"
    },
    "colab": {
      "name": "FB_Prophet_Reg.ipynb",
      "provenance": [],
      "include_colab_link": true
    }
  },
  "cells": [
    {
      "cell_type": "markdown",
      "metadata": {
        "id": "view-in-github",
        "colab_type": "text"
      },
      "source": [
        "<a href=\"https://colab.research.google.com/github/plklinh/ECON_599_Team_1/blob/master/FB_Prophet_Reg.ipynb\" target=\"_parent\"><img src=\"https://colab.research.google.com/assets/colab-badge.svg\" alt=\"Open In Colab\"/></a>"
      ]
    },
    {
      "cell_type": "code",
      "metadata": {
        "colab": {
          "base_uri": "https://localhost:8080/"
        },
        "id": "-v7fceQYS1T-",
        "outputId": "1bab1785-40e3-4b9f-a54e-95908352824d"
      },
      "source": [
        "# from google.colab import drive\n",
        "# drive.mount('/content/drive')"
      ],
      "execution_count": 4,
      "outputs": [
        {
          "output_type": "stream",
          "text": [
            "Drive already mounted at /content/drive; to attempt to forcibly remount, call drive.mount(\"/content/drive\", force_remount=True).\n"
          ],
          "name": "stdout"
        }
      ]
    },
    {
      "cell_type": "code",
      "metadata": {
        "colab": {
          "base_uri": "https://localhost:8080/"
        },
        "id": "vbj4Sg6lS5TG",
        "outputId": "dd3299c5-2b6b-4741-b467-05b885b853af"
      },
      "source": [
        "# %cd drive/My\\ Drive/U\\ of\\ C/ECON_599/ECON_599_Team_1"
      ],
      "execution_count": 3,
      "outputs": [
        {
          "output_type": "stream",
          "text": [
            "[Errno 2] No such file or directory: 'drive/My Drive/U of C/ECON_599/ECON_599_Team_1'\n",
            "/content/drive/My Drive/U of C/ECON_599/ECON_599_Team_1\n"
          ],
          "name": "stdout"
        }
      ]
    },
    {
      "cell_type": "code",
      "metadata": {
        "id": "TgzB3zbrSy7Y"
      },
      "source": [
        "import numpy as np \n",
        "import pandas as pd \n",
        "import holidays\n",
        "from fbprophet import Prophet \n",
        "from sklearn.model_selection import TimeSeriesSplit"
      ],
      "execution_count": 6,
      "outputs": []
    },
    {
      "cell_type": "code",
      "metadata": {
        "id": "2IufBAMTSy7b",
        "outputId": "c7ee2d9c-5e89-48a3-a771-9769bea5a934"
      },
      "source": [
        "data = pd.read_csv(\"msa_merged_data.csv\", thousands=\",\")\n",
        "data.head()"
      ],
      "execution_count": null,
      "outputs": [
        {
          "output_type": "execute_result",
          "data": {
            "text/plain": [
              "        BEGIN_DATE_GMT  HE POOL_PRICE  AIL_DEMAND  Avg_temp  \\\n",
              "0  2010-01-01 07:00:00   1     51.12       8307.0   -24.100   \n",
              "1  2010-01-01 08:00:00   2     48.79       8186.0   -23.775   \n",
              "2  2010-01-01 09:00:00   3     39.56       8075.0   -23.425   \n",
              "3  2010-01-01 10:00:00   4     36.27       8013.0   -23.000   \n",
              "4  2010-01-01 11:00:00   5     36.16       7982.0   -22.400   \n",
              "\n",
              "   Weighted_Avg_Temp  future 1  future 2  future 3  future 4  WTI spot  \\\n",
              "0         -22.952601     79.36     80.02     80.63     81.11     79.39   \n",
              "1         -22.588126     79.36     80.02     80.63     81.11     79.39   \n",
              "2         -22.339761     79.36     80.02     80.63     81.11     79.39   \n",
              "3         -21.877969     79.36     80.02     80.63     81.11     79.39   \n",
              "4         -21.527531     79.36     80.02     80.63     81.11     79.39   \n",
              "\n",
              "   dayofweek  month  year  \n",
              "0          4      1  2010  \n",
              "1          4      1  2010  \n",
              "2          4      1  2010  \n",
              "3          4      1  2010  \n",
              "4          4      1  2010  "
            ],
            "text/html": [
              "<div>\n",
              "<style scoped>\n",
              "    .dataframe tbody tr th:only-of-type {\n",
              "        vertical-align: middle;\n",
              "    }\n",
              "\n",
              "    .dataframe tbody tr th {\n",
              "        vertical-align: top;\n",
              "    }\n",
              "\n",
              "    .dataframe thead th {\n",
              "        text-align: right;\n",
              "    }\n",
              "</style>\n",
              "<table border=\"1\" class=\"dataframe\">\n",
              "  <thead>\n",
              "    <tr style=\"text-align: right;\">\n",
              "      <th></th>\n",
              "      <th>BEGIN_DATE_GMT</th>\n",
              "      <th>HE</th>\n",
              "      <th>POOL_PRICE</th>\n",
              "      <th>AIL_DEMAND</th>\n",
              "      <th>Avg_temp</th>\n",
              "      <th>Weighted_Avg_Temp</th>\n",
              "      <th>future 1</th>\n",
              "      <th>future 2</th>\n",
              "      <th>future 3</th>\n",
              "      <th>future 4</th>\n",
              "      <th>WTI spot</th>\n",
              "      <th>dayofweek</th>\n",
              "      <th>month</th>\n",
              "      <th>year</th>\n",
              "    </tr>\n",
              "  </thead>\n",
              "  <tbody>\n",
              "    <tr>\n",
              "      <th>0</th>\n",
              "      <td>2010-01-01 07:00:00</td>\n",
              "      <td>1</td>\n",
              "      <td>51.12</td>\n",
              "      <td>8307.0</td>\n",
              "      <td>-24.100</td>\n",
              "      <td>-22.952601</td>\n",
              "      <td>79.36</td>\n",
              "      <td>80.02</td>\n",
              "      <td>80.63</td>\n",
              "      <td>81.11</td>\n",
              "      <td>79.39</td>\n",
              "      <td>4</td>\n",
              "      <td>1</td>\n",
              "      <td>2010</td>\n",
              "    </tr>\n",
              "    <tr>\n",
              "      <th>1</th>\n",
              "      <td>2010-01-01 08:00:00</td>\n",
              "      <td>2</td>\n",
              "      <td>48.79</td>\n",
              "      <td>8186.0</td>\n",
              "      <td>-23.775</td>\n",
              "      <td>-22.588126</td>\n",
              "      <td>79.36</td>\n",
              "      <td>80.02</td>\n",
              "      <td>80.63</td>\n",
              "      <td>81.11</td>\n",
              "      <td>79.39</td>\n",
              "      <td>4</td>\n",
              "      <td>1</td>\n",
              "      <td>2010</td>\n",
              "    </tr>\n",
              "    <tr>\n",
              "      <th>2</th>\n",
              "      <td>2010-01-01 09:00:00</td>\n",
              "      <td>3</td>\n",
              "      <td>39.56</td>\n",
              "      <td>8075.0</td>\n",
              "      <td>-23.425</td>\n",
              "      <td>-22.339761</td>\n",
              "      <td>79.36</td>\n",
              "      <td>80.02</td>\n",
              "      <td>80.63</td>\n",
              "      <td>81.11</td>\n",
              "      <td>79.39</td>\n",
              "      <td>4</td>\n",
              "      <td>1</td>\n",
              "      <td>2010</td>\n",
              "    </tr>\n",
              "    <tr>\n",
              "      <th>3</th>\n",
              "      <td>2010-01-01 10:00:00</td>\n",
              "      <td>4</td>\n",
              "      <td>36.27</td>\n",
              "      <td>8013.0</td>\n",
              "      <td>-23.000</td>\n",
              "      <td>-21.877969</td>\n",
              "      <td>79.36</td>\n",
              "      <td>80.02</td>\n",
              "      <td>80.63</td>\n",
              "      <td>81.11</td>\n",
              "      <td>79.39</td>\n",
              "      <td>4</td>\n",
              "      <td>1</td>\n",
              "      <td>2010</td>\n",
              "    </tr>\n",
              "    <tr>\n",
              "      <th>4</th>\n",
              "      <td>2010-01-01 11:00:00</td>\n",
              "      <td>5</td>\n",
              "      <td>36.16</td>\n",
              "      <td>7982.0</td>\n",
              "      <td>-22.400</td>\n",
              "      <td>-21.527531</td>\n",
              "      <td>79.36</td>\n",
              "      <td>80.02</td>\n",
              "      <td>80.63</td>\n",
              "      <td>81.11</td>\n",
              "      <td>79.39</td>\n",
              "      <td>4</td>\n",
              "      <td>1</td>\n",
              "      <td>2010</td>\n",
              "    </tr>\n",
              "  </tbody>\n",
              "</table>\n",
              "</div>"
            ]
          },
          "metadata": {
            "tags": []
          },
          "execution_count": 29
        }
      ]
    },
    {
      "cell_type": "code",
      "metadata": {
        "id": "s9reWp4sSy7b",
        "outputId": "d315a151-a10c-493b-b92a-32b4c9bcea63"
      },
      "source": [
        "# Converting Pool_price to float - no need to rerun\n",
        "\n",
        "# data[\"POOL_PRICE\"] = data[\"POOL_PRICE\"].replace(\" -   \", np.NaN).replace(\"[\\s,]\", \"\", regex=True)\n",
        "# data[\"POOL_PRICE\"] = pd.to_numeric( data[\"POOL_PRICE\"] )\n",
        "# data.dtypes"
      ],
      "execution_count": null,
      "outputs": [
        {
          "output_type": "execute_result",
          "data": {
            "text/plain": [
              "BEGIN_DATE_GMT        object\n",
              "HE                     int64\n",
              "POOL_PRICE           float64\n",
              "AIL_DEMAND           float64\n",
              "Avg_temp             float64\n",
              "Weighted_Avg_Temp    float64\n",
              "future 1             float64\n",
              "future 2             float64\n",
              "future 3             float64\n",
              "future 4             float64\n",
              "WTI spot             float64\n",
              "dayofweek              int64\n",
              "month                  int64\n",
              "year                   int64\n",
              "dtype: object"
            ]
          },
          "metadata": {
            "tags": []
          },
          "execution_count": 32
        }
      ]
    },
    {
      "cell_type": "code",
      "metadata": {
        "id": "aekUO-cKSy7c",
        "outputId": "17d9a1cc-ad8c-4a8e-8c4e-57771060c988"
      },
      "source": [
        "# Checking for null values\n",
        "print(data.shape)\n",
        "data.isnull().sum()"
      ],
      "execution_count": null,
      "outputs": [
        {
          "output_type": "stream",
          "text": [
            "(96390, 14)\n"
          ],
          "name": "stdout"
        },
        {
          "output_type": "execute_result",
          "data": {
            "text/plain": [
              "BEGIN_DATE_GMT         0\n",
              "HE                     0\n",
              "POOL_PRICE           150\n",
              "AIL_DEMAND             0\n",
              "Avg_temp               0\n",
              "Weighted_Avg_Temp      0\n",
              "future 1               0\n",
              "future 2               0\n",
              "future 3               0\n",
              "future 4               0\n",
              "WTI spot               0\n",
              "dayofweek              0\n",
              "month                  0\n",
              "year                   0\n",
              "dtype: int64"
            ]
          },
          "metadata": {
            "tags": []
          },
          "execution_count": 33
        }
      ]
    },
    {
      "cell_type": "code",
      "metadata": {
        "id": "pjCA_0-lSy7c",
        "outputId": "ae4389cd-38f0-4002-c6e2-38c2f70687cb"
      },
      "source": [
        "# Converting to datetime and checking for gaps in the the time series\n",
        "data[\"BEGIN_DATE_GMT\"] = pd.to_datetime(data[\"BEGIN_DATE_GMT\"])\n",
        "gaps = data[data[\"BEGIN_DATE_GMT\"] - data[\"BEGIN_DATE_GMT\"].shift(1) > pd.Timedelta(1, unit = \"h\")].index\n",
        "\n",
        "for gap in gaps:\n",
        "    print(data[gap - 1:gap+2][\"BEGIN_DATE_GMT\"], \"\\n\")"
      ],
      "execution_count": null,
      "outputs": [
        {
          "output_type": "stream",
          "text": [
            "7440   2010-11-07 07:00:00\n",
            "7441   2010-11-07 09:00:00\n",
            "7442   2010-11-07 10:00:00\n",
            "Name: BEGIN_DATE_GMT, dtype: datetime64[ns] \n",
            "\n",
            "16175   2011-11-06 07:00:00\n",
            "16176   2011-11-06 09:00:00\n",
            "16177   2011-11-06 10:00:00\n",
            "Name: BEGIN_DATE_GMT, dtype: datetime64[ns] \n",
            "\n",
            "24910   2012-11-04 07:00:00\n",
            "24911   2012-11-04 09:00:00\n",
            "24912   2012-11-04 10:00:00\n",
            "Name: BEGIN_DATE_GMT, dtype: datetime64[ns] \n",
            "\n",
            "33645   2013-11-03 07:00:00\n",
            "33646   2013-11-03 09:00:00\n",
            "33647   2013-11-03 10:00:00\n",
            "Name: BEGIN_DATE_GMT, dtype: datetime64[ns] \n",
            "\n",
            "42380   2014-11-02 07:00:00\n",
            "42381   2014-11-02 09:00:00\n",
            "42382   2014-11-02 10:00:00\n",
            "Name: BEGIN_DATE_GMT, dtype: datetime64[ns] \n",
            "\n",
            "51115   2015-11-01 07:00:00\n",
            "51116   2015-11-01 09:00:00\n",
            "51117   2015-11-01 10:00:00\n",
            "Name: BEGIN_DATE_GMT, dtype: datetime64[ns] \n",
            "\n",
            "60018   2016-11-06 07:00:00\n",
            "60019   2016-11-06 09:00:00\n",
            "60020   2016-11-06 10:00:00\n",
            "Name: BEGIN_DATE_GMT, dtype: datetime64[ns] \n",
            "\n",
            "68753   2017-11-05 07:00:00\n",
            "68754   2017-11-05 09:00:00\n",
            "68755   2017-11-05 10:00:00\n",
            "Name: BEGIN_DATE_GMT, dtype: datetime64[ns] \n",
            "\n",
            "77488   2018-11-04 07:00:00\n",
            "77489   2018-11-04 09:00:00\n",
            "77490   2018-11-04 10:00:00\n",
            "Name: BEGIN_DATE_GMT, dtype: datetime64[ns] \n",
            "\n",
            "86223   2019-11-03 07:00:00\n",
            "86224   2019-11-03 09:00:00\n",
            "86225   2019-11-03 10:00:00\n",
            "Name: BEGIN_DATE_GMT, dtype: datetime64[ns] \n",
            "\n",
            "94958   2020-11-01 07:00:00\n",
            "94959   2020-11-01 09:00:00\n",
            "94960   2020-11-01 10:00:00\n",
            "Name: BEGIN_DATE_GMT, dtype: datetime64[ns] \n",
            "\n"
          ],
          "name": "stdout"
        }
      ]
    },
    {
      "cell_type": "code",
      "metadata": {
        "id": "5kSuEHZISy7c"
      },
      "source": [
        "canada_holidays = holidays.CA()\n",
        "data[\"holiday\"] = [1 if i.date() in canada_holidays else 0 for i in data[\"BEGIN_DATE_GMT\"]]\n",
        "data[\"workingday\"] = data.apply(lambda row: 0 if row[\"holiday\"] == 1 or row[\"dayofweek\"] in [5,6] else 1 , axis = 1)"
      ],
      "execution_count": null,
      "outputs": []
    },
    {
      "cell_type": "code",
      "metadata": {
        "id": "6Xd6QQs3Sy7c",
        "outputId": "6c37f5d2-025d-480c-a10a-9f87d8b35971"
      },
      "source": [
        "data.columns"
      ],
      "execution_count": null,
      "outputs": [
        {
          "output_type": "execute_result",
          "data": {
            "text/plain": [
              "Index(['BEGIN_DATE_GMT', 'HE', 'POOL_PRICE', 'AIL_DEMAND', 'Avg_temp',\n",
              "       'Weighted_Avg_Temp', 'future 1', 'future 2', 'future 3', 'future 4',\n",
              "       'WTI spot', 'dayofweek', 'month', 'year', 'holiday', 'workingday'],\n",
              "      dtype='object')"
            ]
          },
          "metadata": {
            "tags": []
          },
          "execution_count": 23
        }
      ]
    },
    {
      "cell_type": "code",
      "metadata": {
        "id": "J56b3FMhSy7c"
      },
      "source": [
        "data.to_csv(\"msa_merged_data.csv\")"
      ],
      "execution_count": null,
      "outputs": []
    },
    {
      "cell_type": "code",
      "metadata": {
        "id": "ly008e2bSy7c"
      },
      "source": [
        "# Train-test split"
      ],
      "execution_count": null,
      "outputs": []
    },
    {
      "cell_type": "code",
      "metadata": {
        "id": "czG-DyLbSy7c"
      },
      "source": [
        "# Making FBProphet Datasets\n",
        "def make_prophet_df(df, y, ds, regressors):\n",
        "    data = pd.DataFrame()\n",
        "    data[\"y\"] = df[y]\n",
        "    data['ds'] = df[ds]\n",
        "    for i in regressors:\n",
        "        data[i] = df[i]\n",
        "    return data\n",
        "\n",
        "regressors = [\"POOL_PRICE\", \"Weighted_Avg_Temp\", \"workingday\"]\n",
        "\n",
        "# Prophet model\n",
        "prophet_model = Prophet(growth='linear', interval_width = 0.95, \n",
        "                yearly_seasonality='auto',\n",
        "                weekly_seasonality='auto',\n",
        "                daily_seasonality='auto',\n",
        "                seasonality_mode='additive'\n",
        "              )\n",
        "# Adding regressors\n",
        "# Continous vars\n",
        "prop.add_regressor(regressors[0], \n",
        "                    prior_scale=20, mode='additive', standardize=True)\n",
        "prop.add_regressor(regressors[1], \n",
        "                    #prior_scale = 1, \n",
        "                    mode='additive',\n",
        "                    standardize=True)\n",
        "# Binary vars  \n",
        "prop.add_regressor(regressors[2], \n",
        "                    #prior_scale=10, \n",
        "                    mode='additive', \n",
        "                    standardize='auto') \n",
        "\n"
      ],
      "execution_count": null,
      "outputs": []
    },
    {
      "cell_type": "code",
      "metadata": {
        "id": "LNqupkdoSy7d",
        "outputId": "966c32b2-69aa-4f94-af16-0485cf04f592"
      },
      "source": [
        "help(Prophet.add_regressor)"
      ],
      "execution_count": null,
      "outputs": [
        {
          "output_type": "stream",
          "text": [
            "Help on function add_regressor in module fbprophet.forecaster:\n",
            "\n",
            "add_regressor(self, name, prior_scale=None, standardize='auto', mode=None)\n",
            "    Add an additional regressor to be used for fitting and predicting.\n",
            "    \n",
            "    The dataframe passed to `fit` and `predict` will have a column with the\n",
            "    specified name to be used as a regressor. When standardize='auto', the\n",
            "    regressor will be standardized unless it is binary. The regression\n",
            "    coefficient is given a prior with the specified scale parameter.\n",
            "    Decreasing the prior scale will add additional regularization. If no\n",
            "    prior scale is provided, self.holidays_prior_scale will be used.\n",
            "    Mode can be specified as either 'additive' or 'multiplicative'. If not\n",
            "    specified, self.seasonality_mode will be used. 'additive' means the\n",
            "    effect of the regressor will be added to the trend, 'multiplicative'\n",
            "    means it will multiply the trend.\n",
            "    \n",
            "    Parameters\n",
            "    ----------\n",
            "    name: string name of the regressor.\n",
            "    prior_scale: optional float scale for the normal prior. If not\n",
            "        provided, self.holidays_prior_scale will be used.\n",
            "    standardize: optional, specify whether this regressor will be\n",
            "        standardized prior to fitting. Can be 'auto' (standardize if not\n",
            "        binary), True, or False.\n",
            "    mode: optional, 'additive' or 'multiplicative'. Defaults to\n",
            "        self.seasonality_mode.\n",
            "    \n",
            "    Returns\n",
            "    -------\n",
            "    The prophet object.\n",
            "\n"
          ],
          "name": "stdout"
        }
      ]
    },
    {
      "cell_type": "code",
      "metadata": {
        "id": "0Ye1IzPtSy7d"
      },
      "source": [
        ""
      ],
      "execution_count": null,
      "outputs": []
    }
  ]
}