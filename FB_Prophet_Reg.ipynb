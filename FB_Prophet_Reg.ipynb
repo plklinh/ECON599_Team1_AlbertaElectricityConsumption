{
  "nbformat": 4,
  "nbformat_minor": 0,
  "metadata": {
    "language_info": {
      "codemirror_mode": {
        "name": "ipython",
        "version": 3
      },
      "file_extension": ".py",
      "mimetype": "text/x-python",
      "name": "python",
      "nbconvert_exporter": "python",
      "pygments_lexer": "ipython3",
      "version": "3.8.5-final"
    },
    "orig_nbformat": 2,
    "kernelspec": {
      "name": "python3",
      "display_name": "Python 3",
      "language": "python"
    },
    "colab": {
      "name": "FB_Prophet_Reg.ipynb",
      "provenance": [],
      "include_colab_link": true
    },
    "widgets": {
      "application/vnd.jupyter.widget-state+json": {
        "93f8563cbaa44312a90432180ed016ac": {
          "model_module": "@jupyter-widgets/controls",
          "model_name": "HBoxModel",
          "state": {
            "_view_name": "HBoxView",
            "_dom_classes": [],
            "_model_name": "HBoxModel",
            "_view_module": "@jupyter-widgets/controls",
            "_model_module_version": "1.5.0",
            "_view_count": null,
            "_view_module_version": "1.5.0",
            "box_style": "",
            "layout": "IPY_MODEL_b2062c9260714a86a3b109ff6be8b73a",
            "_model_module": "@jupyter-widgets/controls",
            "children": [
              "IPY_MODEL_a81579708bc2451191779228c0ccfd7c",
              "IPY_MODEL_ea9dbce3e4ba4ad3949d0d2656766cbd"
            ]
          }
        },
        "b2062c9260714a86a3b109ff6be8b73a": {
          "model_module": "@jupyter-widgets/base",
          "model_name": "LayoutModel",
          "state": {
            "_view_name": "LayoutView",
            "grid_template_rows": null,
            "right": null,
            "justify_content": null,
            "_view_module": "@jupyter-widgets/base",
            "overflow": null,
            "_model_module_version": "1.2.0",
            "_view_count": null,
            "flex_flow": null,
            "width": null,
            "min_width": null,
            "border": null,
            "align_items": null,
            "bottom": null,
            "_model_module": "@jupyter-widgets/base",
            "top": null,
            "grid_column": null,
            "overflow_y": null,
            "overflow_x": null,
            "grid_auto_flow": null,
            "grid_area": null,
            "grid_template_columns": null,
            "flex": null,
            "_model_name": "LayoutModel",
            "justify_items": null,
            "grid_row": null,
            "max_height": null,
            "align_content": null,
            "visibility": null,
            "align_self": null,
            "height": null,
            "min_height": null,
            "padding": null,
            "grid_auto_rows": null,
            "grid_gap": null,
            "max_width": null,
            "order": null,
            "_view_module_version": "1.2.0",
            "grid_template_areas": null,
            "object_position": null,
            "object_fit": null,
            "grid_auto_columns": null,
            "margin": null,
            "display": null,
            "left": null
          }
        },
        "a81579708bc2451191779228c0ccfd7c": {
          "model_module": "@jupyter-widgets/controls",
          "model_name": "FloatProgressModel",
          "state": {
            "_view_name": "ProgressView",
            "style": "IPY_MODEL_26d01bdb129144afbfdb003d12479e16",
            "_dom_classes": [],
            "description": "  4%",
            "_model_name": "FloatProgressModel",
            "bar_style": "",
            "max": 10512,
            "_view_module": "@jupyter-widgets/controls",
            "_model_module_version": "1.5.0",
            "value": 1995,
            "_view_count": null,
            "_view_module_version": "1.5.0",
            "orientation": "horizontal",
            "min": 0,
            "description_tooltip": null,
            "_model_module": "@jupyter-widgets/controls",
            "layout": "IPY_MODEL_17eb84f5d13d4f0eb5348a667ca99033"
          }
        },
        "ea9dbce3e4ba4ad3949d0d2656766cbd": {
          "model_module": "@jupyter-widgets/controls",
          "model_name": "HTMLModel",
          "state": {
            "_view_name": "HTMLView",
            "style": "IPY_MODEL_d99280abeb9741149acc8cd50cbc307c",
            "_dom_classes": [],
            "description": "",
            "_model_name": "HTMLModel",
            "placeholder": "​",
            "_view_module": "@jupyter-widgets/controls",
            "_model_module_version": "1.5.0",
            "value": " 1995/10512 [10:06:42&lt;52:12:55, 22.07s/it]",
            "_view_count": null,
            "_view_module_version": "1.5.0",
            "description_tooltip": null,
            "_model_module": "@jupyter-widgets/controls",
            "layout": "IPY_MODEL_26338c91a0b04c8cb3cba02a4a6774c1"
          }
        },
        "26d01bdb129144afbfdb003d12479e16": {
          "model_module": "@jupyter-widgets/controls",
          "model_name": "ProgressStyleModel",
          "state": {
            "_view_name": "StyleView",
            "_model_name": "ProgressStyleModel",
            "description_width": "initial",
            "_view_module": "@jupyter-widgets/base",
            "_model_module_version": "1.5.0",
            "_view_count": null,
            "_view_module_version": "1.2.0",
            "bar_color": null,
            "_model_module": "@jupyter-widgets/controls"
          }
        },
        "17eb84f5d13d4f0eb5348a667ca99033": {
          "model_module": "@jupyter-widgets/base",
          "model_name": "LayoutModel",
          "state": {
            "_view_name": "LayoutView",
            "grid_template_rows": null,
            "right": null,
            "justify_content": null,
            "_view_module": "@jupyter-widgets/base",
            "overflow": null,
            "_model_module_version": "1.2.0",
            "_view_count": null,
            "flex_flow": null,
            "width": null,
            "min_width": null,
            "border": null,
            "align_items": null,
            "bottom": null,
            "_model_module": "@jupyter-widgets/base",
            "top": null,
            "grid_column": null,
            "overflow_y": null,
            "overflow_x": null,
            "grid_auto_flow": null,
            "grid_area": null,
            "grid_template_columns": null,
            "flex": null,
            "_model_name": "LayoutModel",
            "justify_items": null,
            "grid_row": null,
            "max_height": null,
            "align_content": null,
            "visibility": null,
            "align_self": null,
            "height": null,
            "min_height": null,
            "padding": null,
            "grid_auto_rows": null,
            "grid_gap": null,
            "max_width": null,
            "order": null,
            "_view_module_version": "1.2.0",
            "grid_template_areas": null,
            "object_position": null,
            "object_fit": null,
            "grid_auto_columns": null,
            "margin": null,
            "display": null,
            "left": null
          }
        },
        "d99280abeb9741149acc8cd50cbc307c": {
          "model_module": "@jupyter-widgets/controls",
          "model_name": "DescriptionStyleModel",
          "state": {
            "_view_name": "StyleView",
            "_model_name": "DescriptionStyleModel",
            "description_width": "",
            "_view_module": "@jupyter-widgets/base",
            "_model_module_version": "1.5.0",
            "_view_count": null,
            "_view_module_version": "1.2.0",
            "_model_module": "@jupyter-widgets/controls"
          }
        },
        "26338c91a0b04c8cb3cba02a4a6774c1": {
          "model_module": "@jupyter-widgets/base",
          "model_name": "LayoutModel",
          "state": {
            "_view_name": "LayoutView",
            "grid_template_rows": null,
            "right": null,
            "justify_content": null,
            "_view_module": "@jupyter-widgets/base",
            "overflow": null,
            "_model_module_version": "1.2.0",
            "_view_count": null,
            "flex_flow": null,
            "width": null,
            "min_width": null,
            "border": null,
            "align_items": null,
            "bottom": null,
            "_model_module": "@jupyter-widgets/base",
            "top": null,
            "grid_column": null,
            "overflow_y": null,
            "overflow_x": null,
            "grid_auto_flow": null,
            "grid_area": null,
            "grid_template_columns": null,
            "flex": null,
            "_model_name": "LayoutModel",
            "justify_items": null,
            "grid_row": null,
            "max_height": null,
            "align_content": null,
            "visibility": null,
            "align_self": null,
            "height": null,
            "min_height": null,
            "padding": null,
            "grid_auto_rows": null,
            "grid_gap": null,
            "max_width": null,
            "order": null,
            "_view_module_version": "1.2.0",
            "grid_template_areas": null,
            "object_position": null,
            "object_fit": null,
            "grid_auto_columns": null,
            "margin": null,
            "display": null,
            "left": null
          }
        }
      }
    }
  },
  "cells": [
    {
      "cell_type": "markdown",
      "metadata": {
        "id": "view-in-github",
        "colab_type": "text"
      },
      "source": [
        "<a href=\"https://colab.research.google.com/github/plklinh/ECON_599_Team_1/blob/master/FB_Prophet_Reg.ipynb\" target=\"_parent\"><img src=\"https://colab.research.google.com/assets/colab-badge.svg\" alt=\"Open In Colab\"/></a>"
      ]
    },
    {
      "cell_type": "code",
      "metadata": {
        "colab": {
          "base_uri": "https://localhost:8080/"
        },
        "id": "-v7fceQYS1T-",
        "outputId": "33322c59-0ccf-4ccc-b1a9-c7faace41fb8"
      },
      "source": [
        "# from google.colab import drive\n",
        "# drive.mount('/content/drive')"
      ],
      "execution_count": null,
      "outputs": [
        {
          "output_type": "stream",
          "text": [
            "Mounted at /content/drive\n"
          ],
          "name": "stdout"
        }
      ]
    },
    {
      "cell_type": "code",
      "metadata": {
        "colab": {
          "base_uri": "https://localhost:8080/"
        },
        "id": "vbj4Sg6lS5TG",
        "outputId": "609a0ad7-abcc-4156-ce89-5445ff10d0d8"
      },
      "source": [
        "# %cd drive/My\\ Drive/U\\ of\\ C/ECON_599/ECON_599_Team_1"
      ],
      "execution_count": null,
      "outputs": [
        {
          "output_type": "stream",
          "text": [
            "/content/drive/My Drive/U of C/ECON_599/ECON_599_Team_1\n"
          ],
          "name": "stdout"
        }
      ]
    },
    {
      "cell_type": "code",
      "metadata": {
        "id": "TgzB3zbrSy7Y"
      },
      "source": [
        "import numpy as np \n",
        "import pandas as pd \n",
        "import holidays\n",
        "from fbprophet import Prophet \n",
        "from sklearn.model_selection import TimeSeriesSplit\n",
        "from fbprophet.diagnostics import cross_validation, performance_metrics\n",
        "from fbprophet.plot import plot_cross_validation_metric"
      ],
      "execution_count": null,
      "outputs": []
    },
    {
      "cell_type": "code",
      "metadata": {
        "colab": {
          "base_uri": "https://localhost:8080/",
          "height": 326
        },
        "id": "2IufBAMTSy7b",
        "outputId": "29b531d6-22a0-4f09-cb39-8a7fd2d70fcb"
      },
      "source": [
        "data = pd.read_csv(\"msa_merged_data.csv\")\n",
        "data.head()"
      ],
      "execution_count": null,
      "outputs": [
        {
          "output_type": "execute_result",
          "data": {
            "text/html": [
              "<div>\n",
              "<style scoped>\n",
              "    .dataframe tbody tr th:only-of-type {\n",
              "        vertical-align: middle;\n",
              "    }\n",
              "\n",
              "    .dataframe tbody tr th {\n",
              "        vertical-align: top;\n",
              "    }\n",
              "\n",
              "    .dataframe thead th {\n",
              "        text-align: right;\n",
              "    }\n",
              "</style>\n",
              "<table border=\"1\" class=\"dataframe\">\n",
              "  <thead>\n",
              "    <tr style=\"text-align: right;\">\n",
              "      <th></th>\n",
              "      <th>Unnamed: 0</th>\n",
              "      <th>Unnamed: 0.1</th>\n",
              "      <th>BEGIN_DATE_GMT</th>\n",
              "      <th>HE</th>\n",
              "      <th>POOL_PRICE</th>\n",
              "      <th>AIL_DEMAND</th>\n",
              "      <th>Avg_temp</th>\n",
              "      <th>Weighted_Avg_Temp</th>\n",
              "      <th>future 1</th>\n",
              "      <th>future 2</th>\n",
              "      <th>future 3</th>\n",
              "      <th>future 4</th>\n",
              "      <th>WTI spot</th>\n",
              "      <th>dayofweek</th>\n",
              "      <th>month</th>\n",
              "      <th>year</th>\n",
              "      <th>holiday</th>\n",
              "      <th>workingday</th>\n",
              "    </tr>\n",
              "  </thead>\n",
              "  <tbody>\n",
              "    <tr>\n",
              "      <th>0</th>\n",
              "      <td>0</td>\n",
              "      <td>0</td>\n",
              "      <td>2010-01-01 07:00:00</td>\n",
              "      <td>1</td>\n",
              "      <td>51.12</td>\n",
              "      <td>8307.0</td>\n",
              "      <td>-24.100</td>\n",
              "      <td>-22.952601</td>\n",
              "      <td>79.36</td>\n",
              "      <td>80.02</td>\n",
              "      <td>80.63</td>\n",
              "      <td>81.11</td>\n",
              "      <td>79.39</td>\n",
              "      <td>4</td>\n",
              "      <td>1</td>\n",
              "      <td>2010</td>\n",
              "      <td>1</td>\n",
              "      <td>0</td>\n",
              "    </tr>\n",
              "    <tr>\n",
              "      <th>1</th>\n",
              "      <td>1</td>\n",
              "      <td>1</td>\n",
              "      <td>2010-01-01 08:00:00</td>\n",
              "      <td>2</td>\n",
              "      <td>48.79</td>\n",
              "      <td>8186.0</td>\n",
              "      <td>-23.775</td>\n",
              "      <td>-22.588126</td>\n",
              "      <td>79.36</td>\n",
              "      <td>80.02</td>\n",
              "      <td>80.63</td>\n",
              "      <td>81.11</td>\n",
              "      <td>79.39</td>\n",
              "      <td>4</td>\n",
              "      <td>1</td>\n",
              "      <td>2010</td>\n",
              "      <td>1</td>\n",
              "      <td>0</td>\n",
              "    </tr>\n",
              "    <tr>\n",
              "      <th>2</th>\n",
              "      <td>2</td>\n",
              "      <td>2</td>\n",
              "      <td>2010-01-01 09:00:00</td>\n",
              "      <td>3</td>\n",
              "      <td>39.56</td>\n",
              "      <td>8075.0</td>\n",
              "      <td>-23.425</td>\n",
              "      <td>-22.339761</td>\n",
              "      <td>79.36</td>\n",
              "      <td>80.02</td>\n",
              "      <td>80.63</td>\n",
              "      <td>81.11</td>\n",
              "      <td>79.39</td>\n",
              "      <td>4</td>\n",
              "      <td>1</td>\n",
              "      <td>2010</td>\n",
              "      <td>1</td>\n",
              "      <td>0</td>\n",
              "    </tr>\n",
              "    <tr>\n",
              "      <th>3</th>\n",
              "      <td>3</td>\n",
              "      <td>3</td>\n",
              "      <td>2010-01-01 10:00:00</td>\n",
              "      <td>4</td>\n",
              "      <td>36.27</td>\n",
              "      <td>8013.0</td>\n",
              "      <td>-23.000</td>\n",
              "      <td>-21.877969</td>\n",
              "      <td>79.36</td>\n",
              "      <td>80.02</td>\n",
              "      <td>80.63</td>\n",
              "      <td>81.11</td>\n",
              "      <td>79.39</td>\n",
              "      <td>4</td>\n",
              "      <td>1</td>\n",
              "      <td>2010</td>\n",
              "      <td>1</td>\n",
              "      <td>0</td>\n",
              "    </tr>\n",
              "    <tr>\n",
              "      <th>4</th>\n",
              "      <td>4</td>\n",
              "      <td>4</td>\n",
              "      <td>2010-01-01 11:00:00</td>\n",
              "      <td>5</td>\n",
              "      <td>36.16</td>\n",
              "      <td>7982.0</td>\n",
              "      <td>-22.400</td>\n",
              "      <td>-21.527531</td>\n",
              "      <td>79.36</td>\n",
              "      <td>80.02</td>\n",
              "      <td>80.63</td>\n",
              "      <td>81.11</td>\n",
              "      <td>79.39</td>\n",
              "      <td>4</td>\n",
              "      <td>1</td>\n",
              "      <td>2010</td>\n",
              "      <td>1</td>\n",
              "      <td>0</td>\n",
              "    </tr>\n",
              "  </tbody>\n",
              "</table>\n",
              "</div>"
            ],
            "text/plain": [
              "   Unnamed: 0  Unnamed: 0.1       BEGIN_DATE_GMT  ...  year  holiday  workingday\n",
              "0           0             0  2010-01-01 07:00:00  ...  2010        1           0\n",
              "1           1             1  2010-01-01 08:00:00  ...  2010        1           0\n",
              "2           2             2  2010-01-01 09:00:00  ...  2010        1           0\n",
              "3           3             3  2010-01-01 10:00:00  ...  2010        1           0\n",
              "4           4             4  2010-01-01 11:00:00  ...  2010        1           0\n",
              "\n",
              "[5 rows x 18 columns]"
            ]
          },
          "metadata": {
            "tags": []
          },
          "execution_count": 16
        }
      ]
    },
    {
      "cell_type": "code",
      "metadata": {
        "id": "s9reWp4sSy7b",
        "colab": {
          "base_uri": "https://localhost:8080/"
        },
        "outputId": "481317f2-2fde-4196-8c4b-d4167d13ae92"
      },
      "source": [
        "# Converting Pool_price to float - no need to rerun\n",
        "data[\"POOL_PRICE\"] = data[\"POOL_PRICE\"].replace(\" -   \", np.NaN).replace(\"[\\s,]\", \"\", regex=True)\n",
        "data[\"POOL_PRICE\"] = pd.to_numeric( data[\"POOL_PRICE\"] )\n",
        "data.dtypes"
      ],
      "execution_count": null,
      "outputs": [
        {
          "output_type": "execute_result",
          "data": {
            "text/plain": [
              "BEGIN_DATE_GMT       datetime64[ns]\n",
              "HE                            int64\n",
              "POOL_PRICE                  float64\n",
              "AIL_DEMAND                  float64\n",
              "Avg_temp                    float64\n",
              "Weighted_Avg_Temp           float64\n",
              "future 1                    float64\n",
              "future 2                    float64\n",
              "future 3                    float64\n",
              "future 4                    float64\n",
              "WTI spot                    float64\n",
              "dayofweek                     int64\n",
              "month                         int64\n",
              "year                          int64\n",
              "holiday                       int64\n",
              "workingday                    int64\n",
              "dtype: object"
            ]
          },
          "metadata": {
            "tags": []
          },
          "execution_count": 22
        }
      ]
    },
    {
      "cell_type": "code",
      "metadata": {
        "id": "aekUO-cKSy7c",
        "colab": {
          "base_uri": "https://localhost:8080/"
        },
        "outputId": "ff3fa0e0-534f-49e3-d62e-8347bb436840"
      },
      "source": [
        "# Checking for null values\n",
        "print(data.shape)\n",
        "data.isnull().sum()"
      ],
      "execution_count": null,
      "outputs": [
        {
          "output_type": "stream",
          "text": [
            "(96390, 17)\n"
          ],
          "name": "stdout"
        },
        {
          "output_type": "execute_result",
          "data": {
            "text/plain": [
              "Unnamed: 0             0\n",
              "BEGIN_DATE_GMT         0\n",
              "HE                     0\n",
              "POOL_PRICE           150\n",
              "AIL_DEMAND             0\n",
              "Avg_temp               0\n",
              "Weighted_Avg_Temp      0\n",
              "future 1               0\n",
              "future 2               0\n",
              "future 3               0\n",
              "future 4               0\n",
              "WTI spot               0\n",
              "dayofweek              0\n",
              "month                  0\n",
              "year                   0\n",
              "holiday                0\n",
              "workingday             0\n",
              "dtype: int64"
            ]
          },
          "metadata": {
            "tags": []
          },
          "execution_count": 7
        }
      ]
    },
    {
      "cell_type": "code",
      "metadata": {
        "id": "pjCA_0-lSy7c"
      },
      "source": [
        "# Converting to datetime and checking for gaps in the the time series\n",
        "data[\"BEGIN_DATE_GMT\"] = pd.to_datetime(data[\"BEGIN_DATE_GMT\"])\n",
        "sum(data[\"BEGIN_DATE_GMT\"] - data[\"BEGIN_DATE_GMT\"].shift(1) > pd.Timedelta(1, unit = \"h\"))\n",
        "\n",
        "# Drop unused columns\n",
        "data.drop(columns = [\"Unnamed: 0\", \"Unnamed: 0.1\"], inplace = True)"
      ],
      "execution_count": null,
      "outputs": []
    },
    {
      "cell_type": "code",
      "metadata": {
        "id": "5kSuEHZISy7c"
      },
      "source": [
        "# import holidays\n",
        "# canada_holidays = holidays.CA()\n",
        "# data[\"holiday\"] = [1 if i.date() in canada_holidays else 0 for i in data[\"BEGIN_DATE_GMT\"]]\n",
        "# data[\"workingday\"] = data.apply(lambda row: 0 if row[\"holiday\"] == 1 or row[\"dayofweek\"] in [5,6] else 1 , axis = 1)\n",
        "# data.to_csv(\"msa_merged_data.csv\")"
      ],
      "execution_count": null,
      "outputs": []
    },
    {
      "cell_type": "code",
      "metadata": {
        "id": "czG-DyLbSy7c"
      },
      "source": [
        "# Train-test split\n",
        "y = data[\"AIL_DEMAND\"]\n",
        "X = data.drop(columns = [\"AIL_DEMAND\"])"
      ],
      "execution_count": null,
      "outputs": []
    },
    {
      "cell_type": "code",
      "metadata": {
        "colab": {
          "base_uri": "https://localhost:8080/"
        },
        "id": "vMJMEgL4oXCf",
        "outputId": "6c94a406-6f27-4b52-e60a-8d41f6230809"
      },
      "source": [
        "# sk_learn corss validation technique\n",
        "tscv = TimeSeriesSplit(max_train_size=None, n_splits=5)\n",
        "for train_index, test_index in tscv.split(X):\n",
        "    print(\"TRAIN: \", train_index.max(), \"TEST: (\", test_index.min(), test_index.max(), \")\")"
      ],
      "execution_count": null,
      "outputs": [
        {
          "output_type": "stream",
          "text": [
            "TRAIN:  16064 TEST: ( 16065 32129 )\n",
            "TRAIN:  32129 TEST: ( 32130 48194 )\n",
            "TRAIN:  48194 TEST: ( 48195 64259 )\n",
            "TRAIN:  64259 TEST: ( 64260 80324 )\n",
            "TRAIN:  80324 TEST: ( 80325 96389 )\n"
          ],
          "name": "stdout"
        }
      ]
    },
    {
      "cell_type": "code",
      "metadata": {
        "id": "0Ye1IzPtSy7d",
        "colab": {
          "base_uri": "https://localhost:8080/",
          "height": 83,
          "referenced_widgets": [
            "93f8563cbaa44312a90432180ed016ac",
            "b2062c9260714a86a3b109ff6be8b73a",
            "a81579708bc2451191779228c0ccfd7c",
            "ea9dbce3e4ba4ad3949d0d2656766cbd",
            "26d01bdb129144afbfdb003d12479e16",
            "17eb84f5d13d4f0eb5348a667ca99033",
            "d99280abeb9741149acc8cd50cbc307c",
            "26338c91a0b04c8cb3cba02a4a6774c1"
          ]
        },
        "outputId": "b7041980-dd95-4d97-d6f4-6e41d76e9b1f"
      },
      "source": [
        "# Making FBProphet Datasets\n",
        "def make_prophet_df(X, y, regressors):\n",
        "    data = pd.DataFrame()\n",
        "    data[\"y\"] = y\n",
        "    data['ds'] = X[\"BEGIN_DATE_GMT\"]\n",
        "    for i in regressors:\n",
        "        data[i] = X[i]\n",
        "    return data\n",
        "\n",
        "\n",
        "# Prophet model\n",
        "prophet_model = Prophet(growth='linear', interval_width = 0.95, \n",
        "                yearly_seasonality='auto',\n",
        "                weekly_seasonality='auto',\n",
        "                daily_seasonality='auto',\n",
        "                seasonality_mode='additive'\n",
        "              )\n",
        "# Adding regressors\n",
        "regressors = [\"POOL_PRICE\", \"Weighted_Avg_Temp\", \"workingday\"]\n",
        "# Continous vars\n",
        "prophet_model.add_regressor(regressors[0], \n",
        "                    prior_scale=20, mode='additive', standardize=True)\n",
        "prophet_model.add_regressor(regressors[1], \n",
        "                    #prior_scale = 1, \n",
        "                    mode='additive',\n",
        "                    standardize=True)\n",
        "# Binary vars  \n",
        "prophet_model.add_regressor(regressors[2], \n",
        "                    #prior_scale=10, \n",
        "                    mode='additive', \n",
        "                    standardize='auto') \n",
        "\n",
        "# FB Prophet cross validation techique\n",
        "split_index = np.int(0.2* len(y))\n",
        "X_train, X_test = X[:split_index], X[split_index:]\n",
        "y_train, y_test = y[:split_index], y[split_index:]\n",
        "\n",
        "prop_train_df = make_prophet_df(X_train, y_train, regressors)\n",
        "prop_train_df[\"POOL_PRICE\"] = prop_train_df[\"POOL_PRICE\"].interpolate(method = \"cubic\")\n",
        "\n",
        "prophet_model.fit(prop_train_df)\n",
        "\n",
        "prop_cv = cross_validation(prophet_model, horizon = 16064 ) \n",
        "prop_p = performance_metrics(prop_cv)\n",
        "\n",
        "prop_p.head()"
      ],
      "execution_count": null,
      "outputs": [
        {
          "output_type": "stream",
          "text": [
            "INFO:numexpr.utils:NumExpr defaulting to 2 threads.\n",
            "INFO:fbprophet:Making 10512 forecasts with cutoffs between 2011-01-01 13:59:59.999983936 and 2012-03-14 13:59:59.999983936\n"
          ],
          "name": "stderr"
        },
        {
          "output_type": "display_data",
          "data": {
            "application/vnd.jupyter.widget-view+json": {
              "model_id": "93f8563cbaa44312a90432180ed016ac",
              "version_major": 2,
              "version_minor": 0
            },
            "text/plain": [
              "HBox(children=(FloatProgress(value=0.0, max=10512.0), HTML(value='')))"
            ]
          },
          "metadata": {
            "tags": []
          }
        }
      ]
    },
    {
      "cell_type": "code",
      "metadata": {
        "colab": {
          "base_uri": "https://localhost:8080/",
          "height": 232
        },
        "id": "n8eYWaUhwWHg",
        "outputId": "2060e19b-1d3f-4666-bdc1-f7f1b49ced37"
      },
      "source": [
        "prop_test = make_prophet_df(X_test, y_test)\n",
        "prop_test.drop(\"y\", inplace = True)\n",
        "\n",
        "# Creating the dataframe with datetime values to predict on (making predictions on train as well as the test set)\n",
        "future_dates = prophet_model.make_future_dataframe(periods=len(data_test), freq='H', include_history=True)\n",
        "# Aadding regressors \n",
        "future_dates = pd.merge(future_dates, (prop_train_df.append(prop_test)).drop('y', axis=1), on = 'ds')\n",
        "\n",
        "# Predicting the future\n",
        "forecast = prop.predict(future_dates)\n",
        "\n",
        "prophet_model.plot(forecast, uncertainty = True, \n",
        "          xlabel = 'Dates', ylabel = 'Alberta Internal Load MWH')\n",
        "prophet_model.plot_components(forecast)"
      ],
      "execution_count": null,
      "outputs": [
        {
          "output_type": "error",
          "ename": "NameError",
          "evalue": "ignored",
          "traceback": [
            "\u001b[0;31m---------------------------------------------------------------------------\u001b[0m",
            "\u001b[0;31mNameError\u001b[0m                                 Traceback (most recent call last)",
            "\u001b[0;32m<ipython-input-1-0b6ba7fc3513>\u001b[0m in \u001b[0;36m<module>\u001b[0;34m()\u001b[0m\n\u001b[0;32m----> 1\u001b[0;31m \u001b[0mprop_test\u001b[0m \u001b[0;34m=\u001b[0m \u001b[0mmake_prophet_df\u001b[0m\u001b[0;34m(\u001b[0m\u001b[0mX_test\u001b[0m\u001b[0;34m,\u001b[0m \u001b[0my_test\u001b[0m\u001b[0;34m)\u001b[0m\u001b[0;34m\u001b[0m\u001b[0;34m\u001b[0m\u001b[0m\n\u001b[0m\u001b[1;32m      2\u001b[0m \u001b[0mprop_test\u001b[0m\u001b[0;34m.\u001b[0m\u001b[0mdrop\u001b[0m\u001b[0;34m(\u001b[0m\u001b[0;34m\"y\"\u001b[0m\u001b[0;34m,\u001b[0m \u001b[0minplace\u001b[0m \u001b[0;34m=\u001b[0m \u001b[0;32mTrue\u001b[0m\u001b[0;34m)\u001b[0m\u001b[0;34m\u001b[0m\u001b[0;34m\u001b[0m\u001b[0m\n\u001b[1;32m      3\u001b[0m \u001b[0;34m\u001b[0m\u001b[0m\n\u001b[1;32m      4\u001b[0m \u001b[0;31m# Creating the dataframe with datetime values to predict on (making predictions on train as well as the test set)\u001b[0m\u001b[0;34m\u001b[0m\u001b[0;34m\u001b[0m\u001b[0;34m\u001b[0m\u001b[0m\n\u001b[1;32m      5\u001b[0m \u001b[0mfuture_dates\u001b[0m \u001b[0;34m=\u001b[0m \u001b[0mprophet_model\u001b[0m\u001b[0;34m.\u001b[0m\u001b[0mmake_future_dataframe\u001b[0m\u001b[0;34m(\u001b[0m\u001b[0mperiods\u001b[0m\u001b[0;34m=\u001b[0m\u001b[0mlen\u001b[0m\u001b[0;34m(\u001b[0m\u001b[0mdata_test\u001b[0m\u001b[0;34m)\u001b[0m\u001b[0;34m,\u001b[0m \u001b[0mfreq\u001b[0m\u001b[0;34m=\u001b[0m\u001b[0;34m'H'\u001b[0m\u001b[0;34m,\u001b[0m \u001b[0minclude_history\u001b[0m\u001b[0;34m=\u001b[0m\u001b[0;32mTrue\u001b[0m\u001b[0;34m)\u001b[0m\u001b[0;34m\u001b[0m\u001b[0;34m\u001b[0m\u001b[0m\n",
            "\u001b[0;31mNameError\u001b[0m: name 'make_prophet_df' is not defined"
          ]
        }
      ]
    },
    {
      "cell_type": "code",
      "metadata": {
        "colab": {
          "base_uri": "https://localhost:8080/"
        },
        "id": "Cj4qek2osmy9",
        "outputId": "8def2521-1606-4303-a838-21adcb747400"
      },
      "source": [
        "(32129-16065 )*3"
      ],
      "execution_count": null,
      "outputs": [
        {
          "output_type": "execute_result",
          "data": {
            "text/plain": [
              "48192"
            ]
          },
          "metadata": {
            "tags": []
          },
          "execution_count": 51
        }
      ]
    }
  ]
}