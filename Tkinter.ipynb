{
 "metadata": {
  "language_info": {
   "codemirror_mode": {
    "name": "ipython",
    "version": 3
   },
   "file_extension": ".py",
   "mimetype": "text/x-python",
   "name": "python",
   "nbconvert_exporter": "python",
   "pygments_lexer": "ipython3",
   "version": "3.7.4-final"
  },
  "orig_nbformat": 2,
  "kernelspec": {
   "name": "python3",
   "display_name": "Python 3.7.4 64-bit ('base': conda)",
   "metadata": {
    "interpreter": {
     "hash": "dca0ade3e726a953b501b15e8e990130d2b7799f14cfd9f4271676035ebe5511"
    }
   }
  }
 },
 "nbformat": 4,
 "nbformat_minor": 2,
 "cells": [
  {
   "cell_type": "code",
   "execution_count": 1,
   "metadata": {},
   "outputs": [],
   "source": [
    "import tkinter as tk\n",
    "from tkinter import *\n",
    "def click():\n",
    "    enter_text=textentry.get() \n",
    "    output.delete(0.0, END)\n",
    "    try: \n",
    "        definition =my_compdictionary[entered_text]\n",
    "    except:\n",
    "        definition = \"sorry there is no word like that please try again\"\n",
    "    output.insert(END, definition)\n",
    "##This is used later on in the file when we create a submit buttom. note that we use the same variable name \"textentry\" .get operator give us teh contents of the textbox and we store it in the variable textentry\n",
    "\n",
    "#0.0 everything before the first line and all the way to the end of the box\n"
   ]
  },
  {
   "cell_type": "code",
   "execution_count": 2,
   "metadata": {},
   "outputs": [],
   "source": [
    "#This gives the title of the window\n",
    "window = Tk()\n",
    "window.configure(background=\"black\")\n",
    "#We do this so that when we strech out the window thw whole background is black and not just gif\n",
    "\n",
    "# In this window we create an image, to do so we set a variable and set it equal to a command that is set in tkinter. and specify the file location \n",
    "photo1 = PhotoImage(file=\"/Users/samira/Downloads/Data workshop/hello world.gif\")\n",
    "Label (window, image=photo1, bg=\"black\") .grid(row=0, column=0, sticky=E)\n",
    "#label allows you to place this on the window, in the window we use the image and it will equal the variable we just set, setting the background to be black. the grid operator is how the image will appear on the window using east and west. \n",
    "\n",
    "#Create Label\n",
    "Label (window, text=\"Enter the word you would like a definition for:\", bg=\"black\", fg=\"white\", font=\"none 12 bold\") .grid(row=1, column=0, sticky=W)\n",
    "\n",
    "##fg stands for foreground color, which is the font color, the font we can specify ariel or times new roman but by speficying none it just gives us the default, .grid operator gives us the image location on the window.\n",
    "\n",
    "\n",
    "#Create a text entry box\n",
    "textentry = Entry(window, width=20, bg=\"white\")\n",
    "textentry.grid(row=2, column=0, sticky=W)\n",
    "\n",
    "#Add a submit buttom\n",
    "Button (window, text=\"SUBMIT\", width=6, command=click) .grid(row=3, column=0, sticky=W)\n",
    "##\"command = clidk\" will call a function we will create a function at the top of the file. code the click function\n",
    "\n",
    "#Create another label \n",
    "Label (window, text=\"\\nDefinition:\", bg=\"black\", fg=\"white\", font=\"non 12 bold\") .grid(row=4, column = 0, sticky=W)\n",
    "###\\n is the line break we see so it is not all bunched together in the window\n",
    "\n",
    "#create and output textbox\n",
    "output = Text(window, width=75, height=6, wrap=WORD, background=\"white\")\n",
    "output.grid(row=5, column=0, columnspan=2, sticky=W)\n",
    "####command \"wrap=WORD\" will wrap the text if it overflows. .grid is the layout operator\n",
    "\n",
    "#Create dictionary\n",
    "my_compdictionary = {\n",
    "    'algorithm':'Step by step instructions to complete a task', 'bug': 'piece of code that causes a program to fail'\n",
    "}\n",
    "\n",
    "#Create exit label\n",
    "Label (window, text=\"Click to Exit\", bg=\"black\", fg=\"white\", font= \"none 12 bold\") .grid(row=6, column=0, sticky=W)\n",
    "\n",
    "#exit function\n",
    "def close_window():\n",
    "    window.destroy()\n",
    "    exit()\n",
    "\n",
    "#Add an exit button\n",
    "Button (window, text= \"EXIT:\", width=14, command=close_window) .grid(row=7, column=0, sticky=W)\n",
    "\n",
    "\n",
    "#Run the main loop\n",
    "window.mainloop()"
   ]
  },
  {
   "cell_type": "code",
   "execution_count": null,
   "metadata": {},
   "outputs": [],
   "source": [
    "w = Label(root,width = \"40\", height = \"15\")\n",
    "w.pack()\n",
    "root.mainloop()"
   ]
  }
 ]
}