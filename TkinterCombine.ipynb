{
 "metadata": {
  "language_info": {
   "codemirror_mode": {
    "name": "ipython",
    "version": 3
   },
   "file_extension": ".py",
   "mimetype": "text/x-python",
   "name": "python",
   "nbconvert_exporter": "python",
   "pygments_lexer": "ipython3",
   "version": "3.7.4-final"
  },
  "orig_nbformat": 2,
  "kernelspec": {
   "name": "python3",
   "display_name": "Python 3.7.4 64-bit ('base': conda)",
   "metadata": {
    "interpreter": {
     "hash": "dca0ade3e726a953b501b15e8e990130d2b7799f14cfd9f4271676035ebe5511"
    }
   }
  }
 },
 "nbformat": 4,
 "nbformat_minor": 2,
 "cells": [
  {
   "cell_type": "code",
   "execution_count": 1,
   "metadata": {},
   "outputs": [],
   "source": [
    "#Part 1; Open a window \n",
    "\n",
    "from tkinter import *\n",
    "\n",
    "root = Tk()\n",
    "#Add a label to the window \n",
    "theLabel = Label(root, text=\"Data Workshop\")\n",
    "\n",
    "theLabel.pack()\n",
    "##.pack function will place the label on the window\n",
    "\n",
    "\n",
    "root.mainloop()\n",
    "##When working with GUI application, we need to continuously run the window until we physically close it. thats what .mainloop does.Label"
   ]
  },
  {
   "cell_type": "code",
   "execution_count": 1,
   "metadata": {},
   "outputs": [],
   "source": [
    "#Part 2 Add an image \n",
    "from tkinter import *\n",
    "\n",
    "root = Tk()\n",
    "root.configure(background=\"black\")\n",
    "#We do this so that when we strech out the window thw whole background is black and not just the image\n",
    "\n",
    "Label(root, text=\"Data Workshop\") .grid(row=1,column=1)\n",
    "\n",
    "# In this window we create an image, to do so we set a variable and set it equal to a command that is set in tkinter. and specify the file location \n",
    "photo1 = PhotoImage(file=\"/Users/samira/Downloads/Data workshop/hello world.gif\")\n",
    "Label (root, image=photo1, bg=\"black\") .grid(padx=50, column=1, sticky=E)\n",
    "#label allows you to place this on the window, in the window we use the image and it will equal the variable we just set, setting the background to be black. the grid operator is how the image will appear on the window using east and west. \n",
    "\n",
    "root.mainloop()"
   ]
  },
  {
   "cell_type": "code",
   "execution_count": 1,
   "metadata": {},
   "outputs": [],
   "source": [
    "# Part 3: create buttons\n",
    "#a frame with an invible rectangle this rectangle will be the placement of the buttons.\n",
    "from tkinter import *\n",
    "\n",
    "root = Tk()\n",
    "topFrame = Frame(root)\n",
    "topFrame.pack()\n",
    "bottomFrame = Frame(root)\n",
    "bottomFrame.pack(side=BOTTOM)\n",
    "\n",
    "button1 = Button(topFrame, text=\"button 1\", fg=\"red\")\n",
    "button2 = Button(topFrame, text=\"button 2\", fg=\"blue\")\n",
    "button3 = Button(topFrame, text=\"button 3\", fg=\"green\")\n",
    "button4 = Button(bottomFrame, text=\"button 4\", fg=\"pink\")\n",
    "\n",
    "button1.pack(side=LEFT)\n",
    "button2.pack(side=LEFT)\n",
    "button3.pack(side=LEFT)\n",
    "button4.pack(side=BOTTOM)\n",
    "\n",
    "#We know have two invisible rectangles  \n",
    "root.mainloop()"
   ]
  },
  {
   "cell_type": "code",
   "execution_count": null,
   "metadata": {},
   "outputs": [],
   "source": [
    "#Part 4: "
   ]
  },
  {
   "cell_type": "code",
   "execution_count": null,
   "metadata": {},
   "outputs": [],
   "source": [
    "#Part 4; putting a widget in place \n",
    "from tkinter import *\n",
    "\n",
    "root = Tk()\n",
    "\n",
    "one = Label(root,text=\"One\",bg=\"red\",fg=\"green\")\n",
    "one.pack()\n",
    "two = Label(root, text=\"two\",bg=\"pink\",fg=\"blue\")\n",
    "#add knew parameter, means  we pretty much wanna fill it as large as wide as the parent is \n",
    "two.pack(fill=X)\n",
    "three = Label(root, text=\"three\",bg=\"black\",fg=\"white\")\n",
    "three.pack(side=LEFT, fill=Y)\n",
    "\n",
    "root.mainloop()"
   ]
  },
  {
   "cell_type": "code",
   "execution_count": null,
   "metadata": {},
   "outputs": [],
   "source": [
    "#Part 5: Create log in text box\n",
    "from tkinter import *\n",
    "root = Tk()\n",
    "\n",
    "label_1 = Label(root, text=\"Name\")\n",
    "label_2 = Label(root, text=\"Password\")\n",
    "#if you want to give the user a blank area to write \n",
    "entry_1 = Entry(root)\n",
    "entry_2 = Entry(root)\n",
    "#using a different type of layout before we were using pack \n",
    "label_1.grid(row=0, sticky=E)\n",
    "label_2.grid(row=1, sticky=E)\n",
    "\n",
    "#position are entries \n",
    "entry_1.grid(row=0, column=1)\n",
    "entry_2.grid(row=1, column=1)\n",
    "\n",
    "#how to add a keep me logged in check box\n",
    "c = Checkbutton(root, text=\"keep me logged\")\n",
    "c.grid(columnspan=2)\n",
    "\n",
    "\n",
    "root.mainloop()\n",
    "\n"
   ]
  },
  {
   "cell_type": "code",
   "execution_count": null,
   "metadata": {},
   "outputs": [],
   "source": [
    "#Part 6: create a text entry box\n",
    "from tkinter import *\n",
    "\n",
    "root = Tk()\n",
    "\n",
    "#Define clicke\n",
    "def click():\n",
    "    enter_text=textentry.get() \n",
    "    output.delete(0.0, END)\n",
    "\n",
    "#Create Label\n",
    "Label (root, text=\"Enter the word you would like a definition for:\", bg=\"black\", fg=\"white\", font=\"none 12 bold\") .grid(row=1, column=0, sticky=W)\n",
    "\n",
    "##fg stands for foreground color, which is the font color, the font we can specify ariel or times new roman but by speficying none it just gives us the default, .grid operator gives us the image location on the window.\n",
    "\n",
    "\n",
    "textentry = Entry(root, width=20, bg=\"white\")\n",
    "textentry.grid(row=2, column=0, sticky=W)\n",
    "\n",
    "#Add a submit buttom\n",
    "Button (root, text=\"SUBMIT\", width=6, command=click) .grid(row=3, column=0, sticky=W)\n",
    "##\"command = click\" will call a function we will create a function at the top of the file. code the click function\n",
    "\n",
    "#Create another label \n",
    "Label (root, text=\"\\nDefinition:\", bg=\"black\", fg=\"white\", font=\"non 12 bold\") .grid(row=4, column = 0, sticky=W)\n",
    "###\\n is the line break we see so it is not all bunched together in the window\n",
    "\n",
    "#create and output textbox\n",
    "output = Text(root, width=75, height=6, wrap=WORD, background=\"white\")\n",
    "output.grid(row=5, column=0, columnspan=2, sticky=W)\n",
    "####command \"wrap=WORD\" will wrap the text if it overflows. .grid is the layout operator\n",
    "\n",
    "#Run mainloop\n",
    "root.mainloop()\n",
    "\n",
    "\n",
    "\n",
    "\n"
   ]
  },
  {
   "cell_type": "code",
   "execution_count": null,
   "metadata": {},
   "outputs": [],
   "source": [
    "#Part 7; Grid VS Pack for window placement\n",
    "\n",
    "#.pack is used to just place  the variable/label/ button etc on the window \n",
    "#.grid also places the variable/label/button on the window however, this function has more specifications such as column and row placement \n",
    "# both functions can use the the specifications padx and pady \n",
    "\n",
    "# If you use both .grid and .pack in the same window python will get confused and give you an error"
   ]
  }
 ]
}