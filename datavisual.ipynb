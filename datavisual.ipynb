{
 "metadata": {
  "language_info": {
   "codemirror_mode": {
    "name": "ipython",
    "version": 3
   },
   "file_extension": ".py",
   "mimetype": "text/x-python",
   "name": "python",
   "nbconvert_exporter": "python",
   "pygments_lexer": "ipython3",
   "version": "3.8.1-final"
  },
  "orig_nbformat": 2,
  "kernelspec": {
   "name": "python3",
   "display_name": "Python 3.8.1 64-bit",
   "metadata": {
    "interpreter": {
     "hash": "aee8b7b246df8f9039afb4144a1f6fd8d2ca17a180786b69acc140d282b71a49"
    }
   }
  }
 },
 "nbformat": 4,
 "nbformat_minor": 2,
 "cells": [
  {
   "cell_type": "code",
   "execution_count": 2,
   "metadata": {},
   "outputs": [],
   "source": [
    "# Basic data and viz\n",
    "import numpy as np\n",
    "import pandas as pd\n",
    "import matplotlib.pyplot as plt\n",
    "import plotly.express as px\n",
    "import plotly.graph_objects as go\n",
    "from plotly.subplots import make_subplots\n",
    "import io\n",
    "import base64\n",
    "\n",
    "# Dash stuff\n",
    "import dash\n",
    "import dash_core_components as dcc\n",
    "import dash_html_components as html\n",
    "from dash.dependencies import Output, Input\n",
    "\n",
    "# FbProphet\n",
    "import json\n",
    "from fbprophet.serialize import model_to_json, model_from_json\n"
   ]
  },
  {
   "cell_type": "code",
   "execution_count": 3,
   "metadata": {},
   "outputs": [
    {
     "output_type": "execute_result",
     "data": {
      "text/plain": [
       "                         BEGIN_DATE_GMT HE  POOL_PRICE  AIL_DEMAND  Avg_temp  \\\n",
       "BEGIN_DATE_GMT                                                                 \n",
       "2010-01-01 07:00:00 2010-01-01 07:00:00  1       51.12      8307.0   -24.100   \n",
       "2010-01-01 08:00:00 2010-01-01 08:00:00  2       48.79      8186.0   -23.775   \n",
       "2010-01-01 09:00:00 2010-01-01 09:00:00  3       39.56      8075.0   -23.425   \n",
       "2010-01-01 10:00:00 2010-01-01 10:00:00  4       36.27      8013.0   -23.000   \n",
       "2010-01-01 11:00:00 2010-01-01 11:00:00  5       36.16      7982.0   -22.400   \n",
       "\n",
       "                     Weighted_Avg_Temp   future 1   future 2  future 3  \\\n",
       "BEGIN_DATE_GMT                                                           \n",
       "2010-01-01 07:00:00         -22.952601  84.591078  85.224136  85.77417   \n",
       "2010-01-01 08:00:00         -22.588126  84.591078  85.224136  85.77417   \n",
       "2010-01-01 09:00:00         -22.339761  84.591078  85.224136  85.77417   \n",
       "2010-01-01 10:00:00         -21.877969  84.591078  85.224136  85.77417   \n",
       "2010-01-01 11:00:00         -21.527531  84.591078  85.224136  85.77417   \n",
       "\n",
       "                      future 4   WTI spot  dayofweek  month  year  holiday  \\\n",
       "BEGIN_DATE_GMT                                                               \n",
       "2010-01-01 07:00:00  86.261936  84.601456          4      1  2010        1   \n",
       "2010-01-01 08:00:00  86.261936  84.601456          4      1  2010        1   \n",
       "2010-01-01 09:00:00  86.261936  84.601456          4      1  2010        1   \n",
       "2010-01-01 10:00:00  86.261936  84.601456          4      1  2010        1   \n",
       "2010-01-01 11:00:00  86.261936  84.601456          4      1  2010        1   \n",
       "\n",
       "                     workingday  Weighted_Avg_Temp.1_hour_lag  \n",
       "BEGIN_DATE_GMT                                                 \n",
       "2010-01-01 07:00:00           0                           NaN  \n",
       "2010-01-01 08:00:00           0                    -22.952601  \n",
       "2010-01-01 09:00:00           0                    -22.588126  \n",
       "2010-01-01 10:00:00           0                    -22.339761  \n",
       "2010-01-01 11:00:00           0                    -21.877969  "
      ],
      "text/html": "<div>\n<style scoped>\n    .dataframe tbody tr th:only-of-type {\n        vertical-align: middle;\n    }\n\n    .dataframe tbody tr th {\n        vertical-align: top;\n    }\n\n    .dataframe thead th {\n        text-align: right;\n    }\n</style>\n<table border=\"1\" class=\"dataframe\">\n  <thead>\n    <tr style=\"text-align: right;\">\n      <th></th>\n      <th>BEGIN_DATE_GMT</th>\n      <th>HE</th>\n      <th>POOL_PRICE</th>\n      <th>AIL_DEMAND</th>\n      <th>Avg_temp</th>\n      <th>Weighted_Avg_Temp</th>\n      <th>future 1</th>\n      <th>future 2</th>\n      <th>future 3</th>\n      <th>future 4</th>\n      <th>WTI spot</th>\n      <th>dayofweek</th>\n      <th>month</th>\n      <th>year</th>\n      <th>holiday</th>\n      <th>workingday</th>\n      <th>Weighted_Avg_Temp.1_hour_lag</th>\n    </tr>\n    <tr>\n      <th>BEGIN_DATE_GMT</th>\n      <th></th>\n      <th></th>\n      <th></th>\n      <th></th>\n      <th></th>\n      <th></th>\n      <th></th>\n      <th></th>\n      <th></th>\n      <th></th>\n      <th></th>\n      <th></th>\n      <th></th>\n      <th></th>\n      <th></th>\n      <th></th>\n      <th></th>\n    </tr>\n  </thead>\n  <tbody>\n    <tr>\n      <th>2010-01-01 07:00:00</th>\n      <td>2010-01-01 07:00:00</td>\n      <td>1</td>\n      <td>51.12</td>\n      <td>8307.0</td>\n      <td>-24.100</td>\n      <td>-22.952601</td>\n      <td>84.591078</td>\n      <td>85.224136</td>\n      <td>85.77417</td>\n      <td>86.261936</td>\n      <td>84.601456</td>\n      <td>4</td>\n      <td>1</td>\n      <td>2010</td>\n      <td>1</td>\n      <td>0</td>\n      <td>NaN</td>\n    </tr>\n    <tr>\n      <th>2010-01-01 08:00:00</th>\n      <td>2010-01-01 08:00:00</td>\n      <td>2</td>\n      <td>48.79</td>\n      <td>8186.0</td>\n      <td>-23.775</td>\n      <td>-22.588126</td>\n      <td>84.591078</td>\n      <td>85.224136</td>\n      <td>85.77417</td>\n      <td>86.261936</td>\n      <td>84.601456</td>\n      <td>4</td>\n      <td>1</td>\n      <td>2010</td>\n      <td>1</td>\n      <td>0</td>\n      <td>-22.952601</td>\n    </tr>\n    <tr>\n      <th>2010-01-01 09:00:00</th>\n      <td>2010-01-01 09:00:00</td>\n      <td>3</td>\n      <td>39.56</td>\n      <td>8075.0</td>\n      <td>-23.425</td>\n      <td>-22.339761</td>\n      <td>84.591078</td>\n      <td>85.224136</td>\n      <td>85.77417</td>\n      <td>86.261936</td>\n      <td>84.601456</td>\n      <td>4</td>\n      <td>1</td>\n      <td>2010</td>\n      <td>1</td>\n      <td>0</td>\n      <td>-22.588126</td>\n    </tr>\n    <tr>\n      <th>2010-01-01 10:00:00</th>\n      <td>2010-01-01 10:00:00</td>\n      <td>4</td>\n      <td>36.27</td>\n      <td>8013.0</td>\n      <td>-23.000</td>\n      <td>-21.877969</td>\n      <td>84.591078</td>\n      <td>85.224136</td>\n      <td>85.77417</td>\n      <td>86.261936</td>\n      <td>84.601456</td>\n      <td>4</td>\n      <td>1</td>\n      <td>2010</td>\n      <td>1</td>\n      <td>0</td>\n      <td>-22.339761</td>\n    </tr>\n    <tr>\n      <th>2010-01-01 11:00:00</th>\n      <td>2010-01-01 11:00:00</td>\n      <td>5</td>\n      <td>36.16</td>\n      <td>7982.0</td>\n      <td>-22.400</td>\n      <td>-21.527531</td>\n      <td>84.591078</td>\n      <td>85.224136</td>\n      <td>85.77417</td>\n      <td>86.261936</td>\n      <td>84.601456</td>\n      <td>4</td>\n      <td>1</td>\n      <td>2010</td>\n      <td>1</td>\n      <td>0</td>\n      <td>-21.877969</td>\n    </tr>\n  </tbody>\n</table>\n</div>"
     },
     "metadata": {},
     "execution_count": 3
    }
   ],
   "source": [
    "# Reading in data\n",
    "data = pd.read_csv(\"msa_merged_data.csv\")\n",
    "data[\"BEGIN_DATE_GMT\"] = pd.to_datetime(data[\"BEGIN_DATE_GMT\"])\n",
    "data[\"Weighted_Avg_Temp.1_hour_lag\"] = data[\"Weighted_Avg_Temp\"].shift(1)\n",
    "data['year'] = data['BEGIN_DATE_GMT'].dt.year\n",
    "data.set_index(\"BEGIN_DATE_GMT\", drop = False, inplace=True)\n",
    "data.head()"
   ]
  },
  {
   "cell_type": "code",
   "execution_count": 4,
   "metadata": {},
   "outputs": [
    {
     "output_type": "execute_result",
     "data": {
      "text/plain": [
       "Index(['BEGIN_DATE_GMT', 'HE', 'POOL_PRICE', 'AIL_DEMAND', 'Avg_temp',\n",
       "       'Weighted_Avg_Temp', 'future 1', 'future 2', 'future 3', 'future 4',\n",
       "       'WTI spot', 'dayofweek', 'month', 'year', 'holiday', 'workingday',\n",
       "       'Weighted_Avg_Temp.1_hour_lag'],\n",
       "      dtype='object')"
      ]
     },
     "metadata": {},
     "execution_count": 4
    }
   ],
   "source": [
    "data.columns"
   ]
  },
  {
   "cell_type": "code",
   "execution_count": 6,
   "metadata": {},
   "outputs": [
    {
     "output_type": "execute_result",
     "data": {
      "text/plain": [
       "BEGIN_DATE_GMT\n",
       "2010-01-01 07:00:00   -22.952601\n",
       "2010-01-01 08:00:00   -22.588126\n",
       "2010-01-01 09:00:00   -22.339761\n",
       "2010-01-01 10:00:00   -21.877969\n",
       "2010-01-01 11:00:00   -21.527531\n",
       "                         ...    \n",
       "2020-12-30 19:00:00    -1.768968\n",
       "2020-12-30 20:00:00    -1.299453\n",
       "2020-12-30 21:00:00    -0.006591\n",
       "2020-12-30 22:00:00    -0.833002\n",
       "2020-12-30 23:00:00    -1.124149\n",
       "Name: Weighted_Avg_Temp, Length: 96401, dtype: float64"
      ]
     },
     "metadata": {},
     "execution_count": 6
    }
   ],
   "source": [
    "data[\"Weighted_Avg_Temp\"]"
   ]
  },
  {
   "cell_type": "code",
   "execution_count": null,
   "metadata": {},
   "outputs": [],
   "source": []
  }
 ]
}