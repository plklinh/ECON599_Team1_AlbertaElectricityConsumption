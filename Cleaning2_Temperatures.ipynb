{
 "cells": [
  {
   "cell_type": "markdown",
   "metadata": {
    "colab_type": "text",
    "id": "view-in-github"
   },
   "source": [
    "<a href=\"https://colab.research.google.com/github/plklinh/ECON_599_Team_1/blob/master/Cleaning2_Temperatures.ipynb\" target=\"_parent\"><img src=\"https://colab.research.google.com/assets/colab-badge.svg\" alt=\"Open In Colab\"/></a>"
   ]
  },
  {
   "cell_type": "code",
   "execution_count": null,
   "metadata": {
    "colab": {
     "base_uri": "https://localhost:8080/"
    },
    "id": "HbQ3bdYVVXON",
    "outputId": "8d398c28-d39c-420d-dec6-b9a801bc9957"
   },
   "outputs": [
    {
     "name": "stdout",
     "output_type": "stream",
     "text": [
      "Mounted at /content/drive\n"
     ]
    }
   ],
   "source": [
    "# from google.colab import drive\n",
    "# drive.mount('/content/drive')"
   ]
  },
  {
   "cell_type": "code",
   "execution_count": null,
   "metadata": {
    "colab": {
     "base_uri": "https://localhost:8080/"
    },
    "id": "3mDuqtGiVewA",
    "outputId": "208ec374-ca18-444c-d5cc-be88fe9b3ddc"
   },
   "outputs": [
    {
     "name": "stdout",
     "output_type": "stream",
     "text": [
      "/content/drive/My Drive/U of C/ECON_599/ECON_599_Team_1\n"
     ]
    }
   ],
   "source": [
    "# %cd drive/My\\ Drive/U\\ of\\ C/ECON_599/ECON_599_Team_1"
   ]
  },
  {
   "cell_type": "code",
   "execution_count": 1,
   "metadata": {
    "id": "qADnj_SBVSst"
   },
   "outputs": [],
   "source": [
    "import pandas as pd\n",
    "import numpy as np\n",
    "import matplotlib.pyplot as plt\n",
    "#import plotly.express as px"
   ]
  },
  {
   "cell_type": "markdown",
   "metadata": {
    "id": "CwQloCpzp1o1"
   },
   "source": [
    "# Cleaning Temperature Data"
   ]
  },
  {
   "cell_type": "code",
   "execution_count": 3,
   "metadata": {
    "id": "3SiCfFXYVSsy"
   },
   "outputs": [],
   "source": [
    "# Reading in temps data\n",
    "temps = pd.read_excel(\"original data/Temps Data full.xls\", sheet_name = None)\n",
    "frames = [df for sheet, df in temps.items()]\n",
    "temps_raw = pd.concat(frames)"
   ]
  },
  {
   "cell_type": "code",
   "execution_count": 4,
   "metadata": {
    "id": "n4LucCFsVSsz",
    "outputId": "589976bc-9af6-48c4-9a99-093b5e03ac61"
   },
   "outputs": [
    {
     "data": {
      "text/plain": [
       "array(['EC - Calgary Temp', 'EC - Fort McMurray Temp',\n",
       "       'EC - Lethbridge Temp', 'EC - Edmonton Temp'], dtype=object)"
      ]
     },
     "execution_count": 4,
     "metadata": {},
     "output_type": "execute_result"
    }
   ],
   "source": [
    "temps_raw = temps_raw[[\"BEGIN_DATE_GMT\",\"END_DATE_GMT\",\"SOURCE_DATETIME\",\"SOURCE_TIMEZONE\",\"NRG_STREAM_NAME\",\"TEMP_CELSIUS\"]]\n",
    "pd.unique(temps_raw[\"NRG_STREAM_NAME\"])"
   ]
  },
  {
   "cell_type": "code",
   "execution_count": 5,
   "metadata": {
    "id": "PfWeTm4yVSs0"
   },
   "outputs": [],
   "source": [
    "# Seperate by location\n",
    "yyc_temp_raw = temps_raw[temps_raw[\"NRG_STREAM_NAME\"] == \"EC - Calgary Temp\"]\n",
    "\n",
    "fort_temp_raw = temps_raw[temps_raw[\"NRG_STREAM_NAME\"] == \"EC - Fort McMurray Temp\"]\n",
    "\n",
    "lethbridge_temp_raw = temps_raw[temps_raw[\"NRG_STREAM_NAME\"] == 'EC - Lethbridge Temp']\n",
    "\n",
    "edmonton_temp_raw = temps_raw[temps_raw[\"NRG_STREAM_NAME\"] == 'EC - Edmonton Temp']"
   ]
  },
  {
   "cell_type": "code",
   "execution_count": 6,
   "metadata": {
    "colab": {
     "base_uri": "https://localhost:8080/"
    },
    "id": "3on6eY9SVSs0",
    "outputId": "26625256-1a8e-4fc8-8a03-01cf1219435c"
   },
   "outputs": [],
   "source": [
    "#Consider the outlier an NA\n",
    "lb_outlier_index = lethbridge_temp_raw [lethbridge_temp_raw[\"TEMP_CELSIUS\"] > 40].index\n",
    "lethbridge_temp_raw.at[54259, \"TEMP_CELSIUS\"] = None"
   ]
  },
  {
   "cell_type": "code",
   "execution_count": null,
   "metadata": {
    "colab": {
     "base_uri": "https://localhost:8080/",
     "height": 265
    },
    "id": "MMbYpU19VSs0",
    "outputId": "2eff44b1-d87c-4aea-fc32-6080216c0a63"
   },
   "outputs": [
    {
     "data": {
      "image/png": "[encoded data removed]",
      "text/plain": [
       "<Figure size 432x288 with 1 Axes>"
      ]
     },
     "metadata": {
      "needs_background": "light",
      "tags": []
     },
     "output_type": "display_data"
    }
   ],
   "source": [
    "bins = np.linspace(-60, 40, 60)\n",
    "\n",
    "plt.hist(yyc_temp_raw[\"TEMP_CELSIUS\"], histtype= 'step', label='Calgary')\n",
    "plt.hist(fort_temp_raw[\"TEMP_CELSIUS\"],  histtype= 'step', label='Fort M')\n",
    "plt.hist(lethbridge_temp_raw[\"TEMP_CELSIUS\"],  histtype= 'step', label='Lethbridge')\n",
    "plt.hist(edmonton_temp_raw[\"TEMP_CELSIUS\"], \n",
    "         histtype= 'step', label='Edmonton')\n",
    "plt.legend(loc='upper right')\n",
    "plt.show()"
   ]
  },
  {
   "cell_type": "code",
   "execution_count": 7,
   "metadata": {
    "colab": {
     "base_uri": "https://localhost:8080/"
    },
    "id": "hWQslvQ6VSs1",
    "outputId": "2cc452e7-46a1-4494-c129-d1749e6204a2"
   },
   "outputs": [
    {
     "name": "stdout",
     "output_type": "stream",
     "text": [
      "(96529, 1)\n"
     ]
    }
   ],
   "source": [
    "full_time = pd.DataFrame( pd.date_range(start='2010-01-01 07:00:00', end = '2021-01-05 07:00:00', freq='H'), \n",
    "                         columns = [\"FULL_BEGIN_DATE_GMT\"] )\n",
    "print(full_time.shape)\n",
    "\n",
    "# Function merge full time series\n",
    "def merge_full_time(df, full_time):\n",
    "    return full_time.merge(df, how =\"left\",\n",
    "                           left_on =  \"FULL_BEGIN_DATE_GMT\",\n",
    "                           right_on = \"BEGIN_DATE_GMT\")\n"
   ]
  },
  {
   "cell_type": "code",
   "execution_count": 8,
   "metadata": {
    "colab": {
     "base_uri": "https://localhost:8080/"
    },
    "id": "EdMq2CdYVSs1",
    "outputId": "3c3fa49f-5076-4f33-ef0d-93f8f5d617cb"
   },
   "outputs": [
    {
     "name": "stdout",
     "output_type": "stream",
     "text": [
      "(96529, 7) (96529, 7) (96529, 7) (96529, 7)\n"
     ]
    }
   ],
   "source": [
    "yyc_temp_full = merge_full_time(yyc_temp_raw, full_time)\n",
    "fort_temp_full = merge_full_time(fort_temp_raw, full_time)\n",
    "lethbridge_temp_full =  merge_full_time(lethbridge_temp_raw, full_time)\n",
    "edmonton_temp_full =  merge_full_time(edmonton_temp_raw, full_time)\n",
    "\n",
    "print(yyc_temp_full.shape,fort_temp_full.shape, lethbridge_temp_full.shape, edmonton_temp_full.shape  )"
   ]
  },
  {
   "cell_type": "code",
   "execution_count": 9,
   "metadata": {
    "colab": {
     "base_uri": "https://localhost:8080/"
    },
    "id": "YWNn3nZYVSs1",
    "outputId": "dfaa5fe4-d1f4-46ef-8ed1-d395df7fad0f"
   },
   "outputs": [
    {
     "name": "stdout",
     "output_type": "stream",
     "text": [
      "(44, 1)\n",
      "(40, 1)\n",
      "(233, 1)\n",
      "(44, 1)\n"
     ]
    }
   ],
   "source": [
    "# Inspect to get missing time values\n",
    "\n",
    "yyc_na = yyc_temp_full[ pd.isna(yyc_temp_full[\"TEMP_CELSIUS\"])][[\"FULL_BEGIN_DATE_GMT\"]]\n",
    "fmm_na = fort_temp_full[ pd.isna(fort_temp_full[\"TEMP_CELSIUS\"])][[\"FULL_BEGIN_DATE_GMT\"]]\n",
    "lb_na = lethbridge_temp_full[pd.isna(lethbridge_temp_full[\"TEMP_CELSIUS\"])][[\"FULL_BEGIN_DATE_GMT\"]]\n",
    "edm_na = edmonton_temp_full[ pd.isna(edmonton_temp_full[\"TEMP_CELSIUS\"])][[\"FULL_BEGIN_DATE_GMT\"]]\n",
    "\n",
    "for df in [yyc_na, fmm_na, lb_na, edm_na]:\n",
    "    print( df.shape ) "
   ]
  },
  {
   "cell_type": "code",
   "execution_count": null,
   "metadata": {
    "colab": {
     "base_uri": "https://localhost:8080/",
     "height": 265
    },
    "id": "DSBLx6XgVSs2",
    "outputId": "b2708ba0-b669-474e-e867-76f489570d81"
   },
   "outputs": [
    {
     "data": {
      "image/png": "[encoded data removed]",
      "text/plain": [
       "<Figure size 432x288 with 1 Axes>"
      ]
     },
     "metadata": {
      "needs_background": "light",
      "tags": []
     },
     "output_type": "display_data"
    }
   ],
   "source": [
    "bins = np.linspace(-60, 40, 50)\n",
    "plt.hist(yyc_na[\"FULL_BEGIN_DATE_GMT\"], \n",
    "         histtype= 'step', label='Calgary')\n",
    "plt.hist(fmm_na[\"FULL_BEGIN_DATE_GMT\"],  \n",
    "         histtype= 'step', label='Fort M')\n",
    "plt.hist(lb_na[\"FULL_BEGIN_DATE_GMT\"],  \n",
    "         histtype= 'step', label='Lethbridge')\n",
    "plt.hist(edm_na[\"FULL_BEGIN_DATE_GMT\"], \n",
    "         histtype= 'step', label='Edmonton')\n",
    "plt.legend(loc='upper right')\n",
    "plt.show()"
   ]
  },
  {
   "cell_type": "code",
   "execution_count": 10,
   "metadata": {
    "id": "esqB3KiQVSs2"
   },
   "outputs": [],
   "source": [
    "def time_gap( next_gap, current):\n",
    "    return (next_gap - current) / pd.Timedelta(hours=1)\n",
    "\n",
    "def bfill_temperature(na_df,full_df):\n",
    "    na_df[\"NEXT_GAP\"] =  na_df[\"FULL_BEGIN_DATE_GMT\"].shift(-1)\n",
    "    na_df[\"PREV_GAP\"] =  na_df[\"FULL_BEGIN_DATE_GMT\"].shift(1)\n",
    "    full_df[\"BFILL_TEMP_CELSIUS\"] = pd.Series.copy(full_df[\"TEMP_CELSIUS\"])\n",
    "\n",
    "    # BFILL_TEMP_CELSIUS = pd.Series.copy(full_df[[\"FULL_BEGIN_DATE_GMT\", \"TEMP_CELSIUS\"]])\n",
    "    \n",
    "    for index, row in na_df.iterrows():\n",
    "        prev_gap = time_gap(row[\"FULL_BEGIN_DATE_GMT\"], row[\"PREV_GAP\"])\n",
    "        next_gap= time_gap(row[\"NEXT_GAP\"], row[\"FULL_BEGIN_DATE_GMT\"])\n",
    "        if prev_gap == 1.0 or next_gap == 1.0:\n",
    "            last_day_temp = full_df[full_df[\"FULL_BEGIN_DATE_GMT\"] == row[\"FULL_BEGIN_DATE_GMT\"]-pd.Timedelta(days=1)][\"BFILL_TEMP_CELSIUS\"]\n",
    "            full_df.at[index,\"BFILL_TEMP_CELSIUS\"] = last_day_temp\n",
    "        else:\n",
    "            last_hour_temp = full_df[full_df[\"FULL_BEGIN_DATE_GMT\"] == row[\"FULL_BEGIN_DATE_GMT\"]-pd.Timedelta(hours=1)][\"BFILL_TEMP_CELSIUS\"]\n",
    "            full_df.at[index,\"BFILL_TEMP_CELSIUS\"] = last_hour_temp\n",
    "    # full_df[\"BFILL_TEMP_CELSIUS\"] = BFILL_TEMP_CELSIUS\n",
    "\n",
    "\n",
    "bfill_temperature(yyc_na, yyc_temp_full)\n",
    "bfill_temperature(fmm_na, fort_temp_full)\n",
    "bfill_temperature(edm_na, edmonton_temp_full)\n",
    "bfill_temperature(lb_na,lethbridge_temp_full)\n"
   ]
  },
  {
   "cell_type": "code",
   "execution_count": 11,
   "metadata": {
    "id": "SHj6_SozVSs2"
   },
   "outputs": [],
   "source": [
    "# 2: Lethbridge\n",
    "# 6: Calgary\n",
    "# 11: Edmonton\n",
    "# 16: Fort McMurray\n",
    "\n",
    "def fill_aux_data(df, stream_name, region):\n",
    "    df[\"BEGIN_DATE_GMT\"] = df[\"FULL_BEGIN_DATE_GMT\"]\n",
    "    df[\"END_DATE_GMT\"] = df[\"BEGIN_DATE_GMT\"] + pd.Timedelta(hours = 1)\n",
    "    df[\"Region\"] = np.repeat(region, df.shape[0])\n",
    "    final_df = df.fillna({'SOURCE_TIMEZONE': \"MST\", 'NRG_STREAM_NAME': stream_name})\n",
    "    return final_df[df.columns.difference([\"FULL_BEGIN_DATE_GMT\",\"SOURCE_DATETIME\",\"VERSION_BEGIN_LOCAL\", \"VERSION_END_LOCAL\"])]\n",
    "\n",
    "yyc_temp_final = fill_aux_data(yyc_temp_full, \"EC - Calgary Temp\", \"6\")\n",
    "fort_temp_final = fill_aux_data(fort_temp_full, \"EC - Fort McMurray Temp\", \"16\")\n",
    "lethbridge_temp_final = fill_aux_data(lethbridge_temp_full, \"EC - Lethbridge Temp\", \"2\")\n",
    "edmonton_temp_final = fill_aux_data(edmonton_temp_full, \"EC - Edmonton Temp\", \"11\")\n"
   ]
  },
  {
   "cell_type": "code",
   "execution_count": 22,
   "metadata": {
    "id": "CbqUzxDFlzLs"
   },
   "outputs": [],
   "source": [
    "temps_final = pd.concat([yyc_temp_final, fort_temp_final, lethbridge_temp_final , edmonton_temp_final])\n",
    "temps_final[\"Year\"] = [begin_time.year for begin_time in temps_final[\"BEGIN_DATE_GMT\"]]"
   ]
  },
  {
   "cell_type": "code",
   "execution_count": 23,
   "metadata": {
    "colab": {
     "base_uri": "https://localhost:8080/"
    },
    "id": "083y1bDIl2Pe",
    "outputId": "b00b524a-1f63-4c03-f0fb-e6deabeb6656"
   },
   "outputs": [
    {
     "data": {
      "text/plain": [
       "BEGIN_DATE_GMT          0\n",
       "BFILL_TEMP_CELSIUS      0\n",
       "END_DATE_GMT            0\n",
       "NRG_STREAM_NAME         0\n",
       "Region                  0\n",
       "SOURCE_TIMEZONE         0\n",
       "TEMP_CELSIUS          361\n",
       "Year                    0\n",
       "dtype: int64"
      ]
     },
     "execution_count": 23,
     "metadata": {},
     "output_type": "execute_result"
    }
   ],
   "source": [
    "temps_final.isna().sum()"
   ]
  },
  {
   "cell_type": "code",
   "execution_count": 24,
   "metadata": {
    "id": "xtWunLcxVSs3"
   },
   "outputs": [],
   "source": [
    "# with pd.ExcelWriter('cleaned data/Temps Data Back Filled.xlsx') as writer:  \n",
    "#     yyc_temp_final.to_excel(writer, sheet_name='Calgary')\n",
    "#     fort_temp_final.to_excel(writer, sheet_name='Fort McMurray')\n",
    "#     lethbridge_temp_final.to_excel(writer, sheet_name='Lethbridge')\n",
    "#     edmonton_temp_final.to_excel(writer, sheet_name='Edmonton')"
   ]
  },
  {
   "cell_type": "markdown",
   "metadata": {
    "id": "234QSpW4p8XU"
   },
   "source": [
    "# Filtering Population Data"
   ]
  },
  {
   "cell_type": "code",
   "execution_count": 25,
   "metadata": {
    "id": "yxN9I42zVSs3"
   },
   "outputs": [],
   "source": [
    "# Reading in population data\n",
    "pop_low_growth = pd.read_csv(\"original data/2020-2046-05-census-divisions-population-projections-low.csv\",\n",
    "                            dtype={'Year':int, 'Region': str, 'Sex': str, 'Age': str,'Pop': int })\n",
    "\n",
    "pop_med_growth = pd.read_csv(\"original data/2020-2046-07-census-divisions-population-projections-medium.csv\",\n",
    "                             dtype={'Year':int, 'Region': str, 'Sex': str, 'Age': str,'Pop': int })\n",
    "\n",
    "pop_high_growth = pd.read_csv(\"original data/2020-2046-09-census-divisions-population-projections-high.csv\",\n",
    "                             dtype={'Year':int, 'Region': str, 'Sex': str, 'Age': str,'Pop': int })"
   ]
  },
  {
   "cell_type": "code",
   "execution_count": 26,
   "metadata": {
    "id": "cEJQKudrVSs3"
   },
   "outputs": [],
   "source": [
    "pop_full = pd.DataFrame(data = {\"Year\": pop_low_growth[\"Year\"],\n",
    "                               \"Region\": pop_low_growth[\"Region\"],\n",
    "                                \"Sex\": pop_low_growth[\"Sex\"],\n",
    "                                \"Age\": pop_low_growth[\"Age\"],\n",
    "                               \"pop_low\": pop_low_growth[\"Pop\"],\n",
    "                               \"pop_medium\": pop_med_growth[\"Pop\"],\n",
    "                                \"pop_high\": pop_high_growth[\"Pop\"]\n",
    "                               })\n",
    "\n",
    "cd_divisions = [\"2\",\"6\",\"11\",\"16\"]\n",
    "# 2: Lethbridge\n",
    "# 6: Calgary\n",
    "# 11: Edmonton\n",
    "# 16: Fort McMurray\n",
    "\n",
    "def base_filter(df):\n",
    "    period = (df[\"Year\"] >= 2010)\n",
    "    in_4_metros = df[\"Region\"].apply(lambda x: x in cd_divisions)\n",
    "    conditions = period & in_4_metros & (df[\"Sex\"] == \"3\") & (df[\"Age\"] ==\"Total\")\n",
    "              \n",
    "    return df[conditions][df.columns.difference([\"Sex\",\"Age\"])]\n",
    "def gen_pop_pct(pop_df, pop_col ):\n",
    "    pop_by_year =  pop_df.groupby(['Year','Region']).agg({pop_col: 'sum'})\n",
    "    pop_pct = pop_by_year.groupby(level=0).apply(lambda x: x / float(x.sum()))\n",
    "    return pop_pct.reset_index()\n",
    "\n",
    "pop_metros =  base_filter(pop_full)\n",
    "\n",
    "pop_metros_sorted = pop_metros.sort_values([\"Year\", \"Region\"])\n",
    "\n",
    "for pop_col in [\"pop_high\",\"pop_low\",\"pop_medium\"]:\n",
    "    pop_pct = gen_pop_pct(pop_metros_sorted, pop_col).sort_values([\"Year\", \"Region\"])\n",
    "    pop_metros_sorted[\"pct_\"+pop_col]  = [pct for pct in pd.Series.copy(pop_pct[pop_col])]"
   ]
  },
  {
   "cell_type": "markdown",
   "metadata": {
    "id": "0A9ORuhvqBSh"
   },
   "source": [
    "# Combining temperature and population"
   ]
  },
  {
   "cell_type": "code",
   "execution_count": 18,
   "metadata": {
    "id": "6-jkJHaTVSs4"
   },
   "outputs": [],
   "source": [
    "# pop_metros_sorted.to_excel(\"cleaned data/Population 2010-2046.xls\")"
   ]
  },
  {
   "cell_type": "code",
   "execution_count": 27,
   "metadata": {
    "id": "tq-gGXU_VSs4"
   },
   "outputs": [],
   "source": [
    "# Combining temperature and population\n",
    "\n",
    "pop_cols = [\"pop_high\",\"pop_low\",\"pop_medium\"]\n",
    "\n",
    "def merge_population(temp_df, pop_df):\n",
    "    return temp_df.merge(pop_metros, on = ['Year','Region'], how = 'left')\n",
    "\n",
    "def gen_weighted_temp(temp_df, temp_col, pop_df, pop_col):\n",
    "    pop_pct = gen_pop_pct(pop_df, pop_col)\n",
    "    temp_df[\"Year\"] =  [begin_time.year for begin_time in temp_df[\"BEGIN_DATE_GMT\"]]\n",
    "    weighted_temp = temp_df.merge(pop_pct, on = ['Year','Region'], how = 'left')\n",
    "    weighted_temp[temp_col + \"_weighted_\"+pop_col] = weighted_temp[temp_col] * weighted_temp[\"pct_\"+pop_col]\n",
    "    return weighted_temp\n",
    "\n",
    "# Weight temperature by population\n",
    "weighted_temp = temps_final.merge(pop_metros_sorted, on = ['Year','Region'], how = 'left')\n",
    "temp_col = \"BFILL_TEMP_CELSIUS\"\n",
    "\n",
    "for pop_col in [\"pop_high\",\"pop_low\",\"pop_medium\"]:\n",
    "    weighted_temp[temp_col.replace(\"_TEMP_CELSIUS\",\"\") + \"_weighted_\" + pop_col] = weighted_temp[temp_col] * weighted_temp[\"pct_\"+pop_col]\n",
    "weighted_temp.sort_values([\"BEGIN_DATE_GMT\",\"Region\"], inplace = True)\n",
    "weighted_temp.rename(str.upper, axis='columns', inplace = True)\n",
    "\n",
    "# Replacing names for convenience\n",
    "weighted_temp.replace({'EC - Calgary Temp' : 'CALGARY', \n",
    "                            \"EC - Edmonton Temp\" : 'EDMONTON',\n",
    "                            \"EC - Fort McMurray Temp\" :\"FORTMM\",\n",
    "                            \"EC - Lethbridge Temp\": \"LETHBRG\"}, inplace = True)\n",
    "\n",
    "weighted_temp.reindex().to_csv(\"cleaned data/Long Format_Weighted Temp 2010-2021.csv\")"
   ]
  },
  {
   "cell_type": "code",
   "execution_count": 29,
   "metadata": {
    "id": "q7m8xyybVSs6"
   },
   "outputs": [],
   "source": [
    "weighted_temp_wide = weighted_temp.drop(columns = [\"YEAR\", \"REGION\", \"SOURCE_TIMEZONE\"]).reindex()\n",
    "\n",
    "weighted_temp_wide = weighted_temp_wide.pivot_table(index ='BEGIN_DATE_GMT', columns = \"NRG_STREAM_NAME\",\n",
    "                                                    margins= False)\n",
    "weighted_temp_wide.columns = weighted_temp_wide.columns.map('|'.join).str.strip('|')\n"
   ]
  },
  {
   "cell_type": "code",
   "execution_count": 30,
   "metadata": {
    "id": "9USyn38XVSs6"
   },
   "outputs": [],
   "source": [
    "weighted_temp_wide.to_csv(\"cleaned data/Wide Format_Weighted Temp 2010-2021.csv\")"
   ]
  },
  {
   "cell_type": "code",
   "execution_count": 20,
   "metadata": {},
   "outputs": [
    {
     "output_type": "execute_result",
     "data": {
      "text/plain": [
       "        BEGIN_DATE_GMT  BFILL_TEMP_CELSIUS|CALGARY  \\\n",
       "0  2010-01-01 07:00:00                       -21.7   \n",
       "1  2010-01-01 08:00:00                       -21.3   \n",
       "2  2010-01-01 09:00:00                       -21.0   \n",
       "3  2010-01-01 10:00:00                       -20.4   \n",
       "4  2010-01-01 11:00:00                       -20.4   \n",
       "\n",
       "   BFILL_TEMP_CELSIUS|EDMONTON  BFILL_TEMP_CELSIUS|FORTMM  \\\n",
       "0                        -24.3                      -30.5   \n",
       "1                        -24.0                      -30.7   \n",
       "2                        -23.9                      -30.8   \n",
       "3                        -23.6                      -30.7   \n",
       "4                        -23.0                      -30.2   \n",
       "\n",
       "   BFILL_TEMP_CELSIUS|LETHBRG  BFILL_WEIGHTED_POP_HIGH|CALGARY  \\\n",
       "0                       -19.9                       -10.392206   \n",
       "1                       -19.1                       -10.200645   \n",
       "2                       -18.0                       -10.056974   \n",
       "3                       -17.3                        -9.769632   \n",
       "4                       -16.0                        -9.769632   \n",
       "\n",
       "   BFILL_WEIGHTED_POP_HIGH|EDMONTON  BFILL_WEIGHTED_POP_HIGH|FORTMM  \\\n",
       "0                        -10.677110                       -0.740259   \n",
       "1                        -10.545294                       -0.745114   \n",
       "2                        -10.501355                       -0.747541   \n",
       "3                        -10.369539                       -0.745114   \n",
       "4                        -10.105906                       -0.732978   \n",
       "\n",
       "   BFILL_WEIGHTED_POP_HIGH|LETHBRG  BFILL_WEIGHTED_POP_LOW|CALGARY  ...  \\\n",
       "0                        -1.143025                      -10.392206  ...   \n",
       "1                        -1.097075                      -10.200645  ...   \n",
       "2                        -1.033892                      -10.056974  ...   \n",
       "3                        -0.993685                       -9.769632  ...   \n",
       "4                        -0.919015                       -9.769632  ...   \n",
       "\n",
       "   POP_LOW|FORTMM  POP_LOW|LETHBRG  POP_MEDIUM|CALGARY  POP_MEDIUM|EDMONTON  \\\n",
       "0           67824           160510             1338281              1227854   \n",
       "1           67824           160510             1338281              1227854   \n",
       "2           67824           160510             1338281              1227854   \n",
       "3           67824           160510             1338281              1227854   \n",
       "4           67824           160510             1338281              1227854   \n",
       "\n",
       "   POP_MEDIUM|FORTMM  POP_MEDIUM|LETHBRG  TEMP_CELSIUS|CALGARY  \\\n",
       "0              67824              160510                 -21.7   \n",
       "1              67824              160510                 -21.3   \n",
       "2              67824              160510                 -21.0   \n",
       "3              67824              160510                 -20.4   \n",
       "4              67824              160510                 -20.4   \n",
       "\n",
       "   TEMP_CELSIUS|EDMONTON  TEMP_CELSIUS|FORTMM  TEMP_CELSIUS|LETHBRG  \n",
       "0                  -24.3                -30.5                 -19.9  \n",
       "1                  -24.0                -30.7                 -19.1  \n",
       "2                  -23.9                -30.8                 -18.0  \n",
       "3                  -23.6                -30.7                 -17.3  \n",
       "4                  -23.0                -30.2                 -16.0  \n",
       "\n",
       "[5 rows x 45 columns]"
      ],
      "text/html": "<div>\n<style scoped>\n    .dataframe tbody tr th:only-of-type {\n        vertical-align: middle;\n    }\n\n    .dataframe tbody tr th {\n        vertical-align: top;\n    }\n\n    .dataframe thead th {\n        text-align: right;\n    }\n</style>\n<table border=\"1\" class=\"dataframe\">\n  <thead>\n    <tr style=\"text-align: right;\">\n      <th></th>\n      <th>BEGIN_DATE_GMT</th>\n      <th>BFILL_TEMP_CELSIUS|CALGARY</th>\n      <th>BFILL_TEMP_CELSIUS|EDMONTON</th>\n      <th>BFILL_TEMP_CELSIUS|FORTMM</th>\n      <th>BFILL_TEMP_CELSIUS|LETHBRG</th>\n      <th>BFILL_WEIGHTED_POP_HIGH|CALGARY</th>\n      <th>BFILL_WEIGHTED_POP_HIGH|EDMONTON</th>\n      <th>BFILL_WEIGHTED_POP_HIGH|FORTMM</th>\n      <th>BFILL_WEIGHTED_POP_HIGH|LETHBRG</th>\n      <th>BFILL_WEIGHTED_POP_LOW|CALGARY</th>\n      <th>...</th>\n      <th>POP_LOW|FORTMM</th>\n      <th>POP_LOW|LETHBRG</th>\n      <th>POP_MEDIUM|CALGARY</th>\n      <th>POP_MEDIUM|EDMONTON</th>\n      <th>POP_MEDIUM|FORTMM</th>\n      <th>POP_MEDIUM|LETHBRG</th>\n      <th>TEMP_CELSIUS|CALGARY</th>\n      <th>TEMP_CELSIUS|EDMONTON</th>\n      <th>TEMP_CELSIUS|FORTMM</th>\n      <th>TEMP_CELSIUS|LETHBRG</th>\n    </tr>\n  </thead>\n  <tbody>\n    <tr>\n      <th>0</th>\n      <td>2010-01-01 07:00:00</td>\n      <td>-21.7</td>\n      <td>-24.3</td>\n      <td>-30.5</td>\n      <td>-19.9</td>\n      <td>-10.392206</td>\n      <td>-10.677110</td>\n      <td>-0.740259</td>\n      <td>-1.143025</td>\n      <td>-10.392206</td>\n      <td>...</td>\n      <td>67824</td>\n      <td>160510</td>\n      <td>1338281</td>\n      <td>1227854</td>\n      <td>67824</td>\n      <td>160510</td>\n      <td>-21.7</td>\n      <td>-24.3</td>\n      <td>-30.5</td>\n      <td>-19.9</td>\n    </tr>\n    <tr>\n      <th>1</th>\n      <td>2010-01-01 08:00:00</td>\n      <td>-21.3</td>\n      <td>-24.0</td>\n      <td>-30.7</td>\n      <td>-19.1</td>\n      <td>-10.200645</td>\n      <td>-10.545294</td>\n      <td>-0.745114</td>\n      <td>-1.097075</td>\n      <td>-10.200645</td>\n      <td>...</td>\n      <td>67824</td>\n      <td>160510</td>\n      <td>1338281</td>\n      <td>1227854</td>\n      <td>67824</td>\n      <td>160510</td>\n      <td>-21.3</td>\n      <td>-24.0</td>\n      <td>-30.7</td>\n      <td>-19.1</td>\n    </tr>\n    <tr>\n      <th>2</th>\n      <td>2010-01-01 09:00:00</td>\n      <td>-21.0</td>\n      <td>-23.9</td>\n      <td>-30.8</td>\n      <td>-18.0</td>\n      <td>-10.056974</td>\n      <td>-10.501355</td>\n      <td>-0.747541</td>\n      <td>-1.033892</td>\n      <td>-10.056974</td>\n      <td>...</td>\n      <td>67824</td>\n      <td>160510</td>\n      <td>1338281</td>\n      <td>1227854</td>\n      <td>67824</td>\n      <td>160510</td>\n      <td>-21.0</td>\n      <td>-23.9</td>\n      <td>-30.8</td>\n      <td>-18.0</td>\n    </tr>\n    <tr>\n      <th>3</th>\n      <td>2010-01-01 10:00:00</td>\n      <td>-20.4</td>\n      <td>-23.6</td>\n      <td>-30.7</td>\n      <td>-17.3</td>\n      <td>-9.769632</td>\n      <td>-10.369539</td>\n      <td>-0.745114</td>\n      <td>-0.993685</td>\n      <td>-9.769632</td>\n      <td>...</td>\n      <td>67824</td>\n      <td>160510</td>\n      <td>1338281</td>\n      <td>1227854</td>\n      <td>67824</td>\n      <td>160510</td>\n      <td>-20.4</td>\n      <td>-23.6</td>\n      <td>-30.7</td>\n      <td>-17.3</td>\n    </tr>\n    <tr>\n      <th>4</th>\n      <td>2010-01-01 11:00:00</td>\n      <td>-20.4</td>\n      <td>-23.0</td>\n      <td>-30.2</td>\n      <td>-16.0</td>\n      <td>-9.769632</td>\n      <td>-10.105906</td>\n      <td>-0.732978</td>\n      <td>-0.919015</td>\n      <td>-9.769632</td>\n      <td>...</td>\n      <td>67824</td>\n      <td>160510</td>\n      <td>1338281</td>\n      <td>1227854</td>\n      <td>67824</td>\n      <td>160510</td>\n      <td>-20.4</td>\n      <td>-23.0</td>\n      <td>-30.2</td>\n      <td>-16.0</td>\n    </tr>\n  </tbody>\n</table>\n<p>5 rows × 45 columns</p>\n</div>"
     },
     "metadata": {},
     "execution_count": 20
    }
   ],
   "source": [
    "temp_data =pd.read_csv(\"cleaned data/Wide Format_Weighted Temp 2010-2021.csv\")\n",
    "temp_data.head()"
   ]
  },
  {
   "cell_type": "code",
   "execution_count": null,
   "metadata": {},
   "outputs": [],
   "source": []
  },
  {
   "cell_type": "code",
   "execution_count": 15,
   "metadata": {},
   "outputs": [],
   "source": [
    "temp_data[\"Avg temp\"] = ( temp_data['BFILL_TEMP_CELSIUS|CALGARY'] +  temp_data['BFILL_TEMP_CELSIUS|EDMONTON'] + temp_data['BFILL_TEMP_CELSIUS|FORTMM'] + temp_data['BFILL_TEMP_CELSIUS|LETHBRG']  ) / 4\n",
    "\n",
    "temp_data[\"Weighted Avg Temp\"] = temp_data['BFILL_WEIGHTED_POP_MEDIUM|CALGARY'] + temp_data['BFILL_WEIGHTED_POP_MEDIUM|EDMONTON'] + temp_data['BFILL_WEIGHTED_POP_MEDIUM|FORTMM'] + temp_data['BFILL_WEIGHTED_POP_MEDIUM|LETHBRG']"
   ]
  },
  {
   "cell_type": "code",
   "execution_count": 16,
   "metadata": {},
   "outputs": [],
   "source": [
    "temp_data = temp_data[[\"BEGIN_DATE_GMT\",\"Avg temp\", \"Weighted Avg Temp\"]]"
   ]
  },
  {
   "cell_type": "code",
   "execution_count": 17,
   "metadata": {},
   "outputs": [
    {
     "output_type": "execute_result",
     "data": {
      "text/plain": [
       "        BEGIN_DATE_GMT  Avg temp  Weighted Avg Temp\n",
       "0  2010-01-01 07:00:00   -24.100         -22.952601\n",
       "1  2010-01-01 08:00:00   -23.775         -22.588126\n",
       "2  2010-01-01 09:00:00   -23.425         -22.339761\n",
       "3  2010-01-01 10:00:00   -23.000         -21.877969\n",
       "4  2010-01-01 11:00:00   -22.400         -21.527531"
      ],
      "text/html": "<div>\n<style scoped>\n    .dataframe tbody tr th:only-of-type {\n        vertical-align: middle;\n    }\n\n    .dataframe tbody tr th {\n        vertical-align: top;\n    }\n\n    .dataframe thead th {\n        text-align: right;\n    }\n</style>\n<table border=\"1\" class=\"dataframe\">\n  <thead>\n    <tr style=\"text-align: right;\">\n      <th></th>\n      <th>BEGIN_DATE_GMT</th>\n      <th>Avg temp</th>\n      <th>Weighted Avg Temp</th>\n    </tr>\n  </thead>\n  <tbody>\n    <tr>\n      <th>0</th>\n      <td>2010-01-01 07:00:00</td>\n      <td>-24.100</td>\n      <td>-22.952601</td>\n    </tr>\n    <tr>\n      <th>1</th>\n      <td>2010-01-01 08:00:00</td>\n      <td>-23.775</td>\n      <td>-22.588126</td>\n    </tr>\n    <tr>\n      <th>2</th>\n      <td>2010-01-01 09:00:00</td>\n      <td>-23.425</td>\n      <td>-22.339761</td>\n    </tr>\n    <tr>\n      <th>3</th>\n      <td>2010-01-01 10:00:00</td>\n      <td>-23.000</td>\n      <td>-21.877969</td>\n    </tr>\n    <tr>\n      <th>4</th>\n      <td>2010-01-01 11:00:00</td>\n      <td>-22.400</td>\n      <td>-21.527531</td>\n    </tr>\n  </tbody>\n</table>\n</div>"
     },
     "metadata": {},
     "execution_count": 17
    }
   ],
   "source": [
    "temp_data.head()"
   ]
  },
  {
   "cell_type": "code",
   "execution_count": 18,
   "metadata": {},
   "outputs": [],
   "source": [
    "temp_data.to_csv(\"cleaned data/Medium_Weighted Temp 2010-2021.csv\")"
   ]
  }
 ],
 "metadata": {
  "colab": {
   "collapsed_sections": [],
   "include_colab_link": true,
   "name": "Cleaning2_Temperatures.ipynb",
   "provenance": []
  },
  "kernelspec": {
   "display_name": "Python 3",
   "language": "python",
   "name": "python3"
  },
  "language_info": {
   "codemirror_mode": {
    "name": "ipython",
    "version": 3
   },
   "file_extension": ".py",
   "mimetype": "text/x-python",
   "name": "python",
   "nbconvert_exporter": "python",
   "pygments_lexer": "ipython3",
   "version": "3.8.5-final"
  }
 },
 "nbformat": 4,
 "nbformat_minor": 4
}